{
 "cells": [
  {
   "cell_type": "code",
   "execution_count": 1,
   "metadata": {
    "collapsed": true
   },
   "outputs": [],
   "source": [
    "import numpy as np\n",
    "\n",
    "def documents(corpus):\n",
    "    return list(corpus.reviews())\n",
    "\n",
    "def continuous(corpus):\n",
    "    return list(corpus.scores())\n",
    "\n",
    "def make_categorical(corpus):\n",
    "    \"\"\"\n",
    "    terrible : 0.0 < y <= 3.0\n",
    "    okay     : 3.0 < y <= 5.0\n",
    "    great    : 5.0 < y <= 7.0\n",
    "    amazing  : 7.0 < y <= 10.1\n",
    "    \"\"\"\n",
    "    return np.digitize(continuous(corpus), [0.0, 3.0, 5.0, 7.0, 10.1])"
   ]
  },
  {
   "cell_type": "code",
   "execution_count": 2,
   "outputs": [],
   "source": [
    "import joblib\n",
    "from sklearn.model_selection import cross_val_score\n",
    "\n",
    "def train_model(path, model, continuous=True, saveto=None, cv=12):\n",
    "    \"\"\"\n",
    "    Trains model from corpus at specified path; constructing cross-validation\n",
    "    scores using the cv parameter, then fitting the model on the full data.\n",
    "    Returns the scores.\n",
    "    \"\"\"\n",
    "    # Load the corpus data and labels for classification\n",
    "    corpus = PickledReviewsReader(path)\n",
    "    X = documents(corpus)\n",
    "    if continuous:\n",
    "        y = continuous(corpus)\n",
    "        scoring = 'r2_score'\n",
    "    else:\n",
    "        y = make_categorical(corpus)\n",
    "        scoring = 'f1_score'\n",
    "\n",
    "    # Compute cross-validation scores\n",
    "    scores = cross_val_score(model, X, y, cv=cv, scoring=scoring)\n",
    "    # Write to disk if specified\n",
    "    if saveto:\n",
    "        joblib.dump(model, saveto)\n",
    "\n",
    "    # Fit the model on entire dataset\n",
    "    model.fit(X, y)\n",
    "\n",
    "    # Return scores\n",
    "    return scores"
   ],
   "metadata": {
    "collapsed": false,
    "pycharm": {
     "name": "#%%\n"
    }
   }
  },
  {
   "cell_type": "code",
   "execution_count": 3,
   "outputs": [
    {
     "ename": "OSError",
     "evalue": "No such file or directory: '/home/af/Dokumenter/Programs/AppliedTextAnalysiswithPython/review_corpus_proc'",
     "output_type": "error",
     "traceback": [
      "\u001B[0;31m---------------------------------------------------------------------------\u001B[0m",
      "\u001B[0;31mOSError\u001B[0m                                   Traceback (most recent call last)",
      "\u001B[0;32m<ipython-input-3-4a77194cd05f>\u001B[0m in \u001B[0;36m<module>\u001B[0;34m\u001B[0m\n\u001B[1;32m     15\u001B[0m         \u001B[0;34m(\u001B[0m\u001B[0;34m'ann'\u001B[0m\u001B[0;34m,\u001B[0m \u001B[0mMLPRegressor\u001B[0m\u001B[0;34m(\u001B[0m\u001B[0mhidden_layer_sizes\u001B[0m\u001B[0;34m=\u001B[0m\u001B[0;34m[\u001B[0m\u001B[0;36m500\u001B[0m\u001B[0;34m,\u001B[0m\u001B[0;36m150\u001B[0m\u001B[0;34m]\u001B[0m\u001B[0;34m,\u001B[0m \u001B[0mverbose\u001B[0m\u001B[0;34m=\u001B[0m\u001B[0;32mTrue\u001B[0m\u001B[0;34m)\u001B[0m\u001B[0;34m)\u001B[0m\u001B[0;34m\u001B[0m\u001B[0;34m\u001B[0m\u001B[0m\n\u001B[1;32m     16\u001B[0m     ])\n\u001B[0;32m---> 17\u001B[0;31m     \u001B[0mregression_scores\u001B[0m \u001B[0;34m=\u001B[0m \u001B[0mtrain_model\u001B[0m\u001B[0;34m(\u001B[0m\u001B[0mcpath\u001B[0m\u001B[0;34m,\u001B[0m \u001B[0mregressor\u001B[0m\u001B[0;34m,\u001B[0m \u001B[0mcontinuous\u001B[0m\u001B[0;34m=\u001B[0m\u001B[0;32mTrue\u001B[0m\u001B[0;34m)\u001B[0m\u001B[0;34m\u001B[0m\u001B[0;34m\u001B[0m\u001B[0m\n\u001B[0m\u001B[1;32m     18\u001B[0m \u001B[0;34m\u001B[0m\u001B[0m\n\u001B[1;32m     19\u001B[0m     classifier = Pipeline([\n",
      "\u001B[0;32m<ipython-input-2-359e29a3bba9>\u001B[0m in \u001B[0;36mtrain_model\u001B[0;34m(path, model, continuous, saveto, cv)\u001B[0m\n\u001B[1;32m      9\u001B[0m     \"\"\"\n\u001B[1;32m     10\u001B[0m     \u001B[0;31m# Load the corpus data and labels for classification\u001B[0m\u001B[0;34m\u001B[0m\u001B[0;34m\u001B[0m\u001B[0;34m\u001B[0m\u001B[0m\n\u001B[0;32m---> 11\u001B[0;31m     \u001B[0mcorpus\u001B[0m \u001B[0;34m=\u001B[0m \u001B[0mPickledReviewsReader\u001B[0m\u001B[0;34m(\u001B[0m\u001B[0mpath\u001B[0m\u001B[0;34m)\u001B[0m\u001B[0;34m\u001B[0m\u001B[0;34m\u001B[0m\u001B[0m\n\u001B[0m\u001B[1;32m     12\u001B[0m     \u001B[0mX\u001B[0m \u001B[0;34m=\u001B[0m \u001B[0mdocuments\u001B[0m\u001B[0;34m(\u001B[0m\u001B[0mcorpus\u001B[0m\u001B[0;34m)\u001B[0m\u001B[0;34m\u001B[0m\u001B[0;34m\u001B[0m\u001B[0m\n\u001B[1;32m     13\u001B[0m     \u001B[0;32mif\u001B[0m \u001B[0mcontinuous\u001B[0m\u001B[0;34m:\u001B[0m\u001B[0;34m\u001B[0m\u001B[0;34m\u001B[0m\u001B[0m\n",
      "\u001B[0;32m~/Dokumenter/Programs/AppliedTextAnalysiswithPython/Chapter 12/reader.py\u001B[0m in \u001B[0;36m__init__\u001B[0;34m(self, root, fileids, **kwargs)\u001B[0m\n\u001B[1;32m    141\u001B[0m         \u001B[0mInitialize\u001B[0m \u001B[0mthe\u001B[0m \u001B[0mcorpus\u001B[0m \u001B[0mreader\u001B[0m\u001B[0;34m\u001B[0m\u001B[0;34m\u001B[0m\u001B[0m\n\u001B[1;32m    142\u001B[0m         \"\"\"\n\u001B[0;32m--> 143\u001B[0;31m         \u001B[0mCorpusReader\u001B[0m\u001B[0;34m.\u001B[0m\u001B[0m__init__\u001B[0m\u001B[0;34m(\u001B[0m\u001B[0mself\u001B[0m\u001B[0;34m,\u001B[0m \u001B[0mroot\u001B[0m\u001B[0;34m,\u001B[0m \u001B[0mfileids\u001B[0m\u001B[0;34m,\u001B[0m \u001B[0;34m**\u001B[0m\u001B[0mkwargs\u001B[0m\u001B[0;34m)\u001B[0m\u001B[0;34m\u001B[0m\u001B[0;34m\u001B[0m\u001B[0m\n\u001B[0m\u001B[1;32m    144\u001B[0m \u001B[0;34m\u001B[0m\u001B[0m\n\u001B[1;32m    145\u001B[0m     \u001B[0;32mdef\u001B[0m \u001B[0mtexts_scores\u001B[0m\u001B[0;34m(\u001B[0m\u001B[0mself\u001B[0m\u001B[0;34m,\u001B[0m \u001B[0mfileids\u001B[0m\u001B[0;34m=\u001B[0m\u001B[0;32mNone\u001B[0m\u001B[0;34m)\u001B[0m\u001B[0;34m:\u001B[0m\u001B[0;34m\u001B[0m\u001B[0;34m\u001B[0m\u001B[0m\n",
      "\u001B[0;32m~/Dokumenter/Programs/miniconda3/envs/AppliedTextAnalysiswithPython/lib/python3.8/site-packages/nltk/corpus/reader/api.py\u001B[0m in \u001B[0;36m__init__\u001B[0;34m(self, root, fileids, encoding, tagset)\u001B[0m\n\u001B[1;32m     78\u001B[0m                 \u001B[0mroot\u001B[0m \u001B[0;34m=\u001B[0m \u001B[0mZipFilePathPointer\u001B[0m\u001B[0;34m(\u001B[0m\u001B[0mzipfile\u001B[0m\u001B[0;34m,\u001B[0m \u001B[0mzipentry\u001B[0m\u001B[0;34m)\u001B[0m\u001B[0;34m\u001B[0m\u001B[0;34m\u001B[0m\u001B[0m\n\u001B[1;32m     79\u001B[0m             \u001B[0;32melse\u001B[0m\u001B[0;34m:\u001B[0m\u001B[0;34m\u001B[0m\u001B[0;34m\u001B[0m\u001B[0m\n\u001B[0;32m---> 80\u001B[0;31m                 \u001B[0mroot\u001B[0m \u001B[0;34m=\u001B[0m \u001B[0mFileSystemPathPointer\u001B[0m\u001B[0;34m(\u001B[0m\u001B[0mroot\u001B[0m\u001B[0;34m)\u001B[0m\u001B[0;34m\u001B[0m\u001B[0;34m\u001B[0m\u001B[0m\n\u001B[0m\u001B[1;32m     81\u001B[0m         \u001B[0;32melif\u001B[0m \u001B[0;32mnot\u001B[0m \u001B[0misinstance\u001B[0m\u001B[0;34m(\u001B[0m\u001B[0mroot\u001B[0m\u001B[0;34m,\u001B[0m \u001B[0mPathPointer\u001B[0m\u001B[0;34m)\u001B[0m\u001B[0;34m:\u001B[0m\u001B[0;34m\u001B[0m\u001B[0;34m\u001B[0m\u001B[0m\n\u001B[1;32m     82\u001B[0m             \u001B[0;32mraise\u001B[0m \u001B[0mTypeError\u001B[0m\u001B[0;34m(\u001B[0m\u001B[0;34m\"CorpusReader: expected a string or a PathPointer\"\u001B[0m\u001B[0;34m)\u001B[0m\u001B[0;34m\u001B[0m\u001B[0;34m\u001B[0m\u001B[0m\n",
      "\u001B[0;32m~/Dokumenter/Programs/miniconda3/envs/AppliedTextAnalysiswithPython/lib/python3.8/site-packages/nltk/compat.py\u001B[0m in \u001B[0;36m_decorator\u001B[0;34m(*args, **kwargs)\u001B[0m\n\u001B[1;32m     39\u001B[0m     \u001B[0;32mdef\u001B[0m \u001B[0m_decorator\u001B[0m\u001B[0;34m(\u001B[0m\u001B[0;34m*\u001B[0m\u001B[0margs\u001B[0m\u001B[0;34m,\u001B[0m \u001B[0;34m**\u001B[0m\u001B[0mkwargs\u001B[0m\u001B[0;34m)\u001B[0m\u001B[0;34m:\u001B[0m\u001B[0;34m\u001B[0m\u001B[0;34m\u001B[0m\u001B[0m\n\u001B[1;32m     40\u001B[0m         \u001B[0margs\u001B[0m \u001B[0;34m=\u001B[0m \u001B[0;34m(\u001B[0m\u001B[0margs\u001B[0m\u001B[0;34m[\u001B[0m\u001B[0;36m0\u001B[0m\u001B[0;34m]\u001B[0m\u001B[0;34m,\u001B[0m \u001B[0madd_py3_data\u001B[0m\u001B[0;34m(\u001B[0m\u001B[0margs\u001B[0m\u001B[0;34m[\u001B[0m\u001B[0;36m1\u001B[0m\u001B[0;34m]\u001B[0m\u001B[0;34m)\u001B[0m\u001B[0;34m)\u001B[0m \u001B[0;34m+\u001B[0m \u001B[0margs\u001B[0m\u001B[0;34m[\u001B[0m\u001B[0;36m2\u001B[0m\u001B[0;34m:\u001B[0m\u001B[0;34m]\u001B[0m\u001B[0;34m\u001B[0m\u001B[0;34m\u001B[0m\u001B[0m\n\u001B[0;32m---> 41\u001B[0;31m         \u001B[0;32mreturn\u001B[0m \u001B[0minit_func\u001B[0m\u001B[0;34m(\u001B[0m\u001B[0;34m*\u001B[0m\u001B[0margs\u001B[0m\u001B[0;34m,\u001B[0m \u001B[0;34m**\u001B[0m\u001B[0mkwargs\u001B[0m\u001B[0;34m)\u001B[0m\u001B[0;34m\u001B[0m\u001B[0;34m\u001B[0m\u001B[0m\n\u001B[0m\u001B[1;32m     42\u001B[0m \u001B[0;34m\u001B[0m\u001B[0m\n\u001B[1;32m     43\u001B[0m     \u001B[0;32mreturn\u001B[0m \u001B[0mwraps\u001B[0m\u001B[0;34m(\u001B[0m\u001B[0minit_func\u001B[0m\u001B[0;34m)\u001B[0m\u001B[0;34m(\u001B[0m\u001B[0m_decorator\u001B[0m\u001B[0;34m)\u001B[0m\u001B[0;34m\u001B[0m\u001B[0;34m\u001B[0m\u001B[0m\n",
      "\u001B[0;32m~/Dokumenter/Programs/miniconda3/envs/AppliedTextAnalysiswithPython/lib/python3.8/site-packages/nltk/data.py\u001B[0m in \u001B[0;36m__init__\u001B[0;34m(self, _path)\u001B[0m\n\u001B[1;32m    313\u001B[0m         \u001B[0m_path\u001B[0m \u001B[0;34m=\u001B[0m \u001B[0mos\u001B[0m\u001B[0;34m.\u001B[0m\u001B[0mpath\u001B[0m\u001B[0;34m.\u001B[0m\u001B[0mabspath\u001B[0m\u001B[0;34m(\u001B[0m\u001B[0m_path\u001B[0m\u001B[0;34m)\u001B[0m\u001B[0;34m\u001B[0m\u001B[0;34m\u001B[0m\u001B[0m\n\u001B[1;32m    314\u001B[0m         \u001B[0;32mif\u001B[0m \u001B[0;32mnot\u001B[0m \u001B[0mos\u001B[0m\u001B[0;34m.\u001B[0m\u001B[0mpath\u001B[0m\u001B[0;34m.\u001B[0m\u001B[0mexists\u001B[0m\u001B[0;34m(\u001B[0m\u001B[0m_path\u001B[0m\u001B[0;34m)\u001B[0m\u001B[0;34m:\u001B[0m\u001B[0;34m\u001B[0m\u001B[0;34m\u001B[0m\u001B[0m\n\u001B[0;32m--> 315\u001B[0;31m             \u001B[0;32mraise\u001B[0m \u001B[0mIOError\u001B[0m\u001B[0;34m(\u001B[0m\u001B[0;34m\"No such file or directory: %r\"\u001B[0m \u001B[0;34m%\u001B[0m \u001B[0m_path\u001B[0m\u001B[0;34m)\u001B[0m\u001B[0;34m\u001B[0m\u001B[0;34m\u001B[0m\u001B[0m\n\u001B[0m\u001B[1;32m    316\u001B[0m         \u001B[0mself\u001B[0m\u001B[0;34m.\u001B[0m\u001B[0m_path\u001B[0m \u001B[0;34m=\u001B[0m \u001B[0m_path\u001B[0m\u001B[0;34m\u001B[0m\u001B[0;34m\u001B[0m\u001B[0m\n\u001B[1;32m    317\u001B[0m \u001B[0;34m\u001B[0m\u001B[0m\n",
      "\u001B[0;31mOSError\u001B[0m: No such file or directory: '/home/af/Dokumenter/Programs/AppliedTextAnalysiswithPython/review_corpus_proc'"
     ]
    }
   ],
   "source": [
    "if __name__ == '__main__':\n",
    "    from transformer import TextNormalizer\n",
    "    from reader import PickledReviewsReader\n",
    "\n",
    "    from sklearn.pipeline import Pipeline\n",
    "    from sklearn.neural_network import MLPRegressor, MLPClassifier\n",
    "    from sklearn.feature_extraction.text import TfidfVectorizer\n",
    "\n",
    "    # Path to postpreprocessed, part-of-speech tagged review corpus\n",
    "    cpath = '../review_corpus_proc'\n",
    "\n",
    "    regressor = Pipeline([\n",
    "        ('norm', TextNormalizer()),\n",
    "        ('tfidf', TfidfVectorizer()),\n",
    "        ('ann', MLPRegressor(hidden_layer_sizes=[500,150], verbose=True))\n",
    "    ])\n",
    "    regression_scores = train_model(cpath, regressor, continuous=True)\n",
    "\n",
    "    classifier = Pipeline([\n",
    "        ('norm', TextNormalizer()),\n",
    "        ('tfidf', TfidfVectorizer()),\n",
    "        ('ann', MLPClassifier(hidden_layer_sizes=[500,150], verbose=True))\n",
    "    ])\n",
    "    classifer_scores = train_model(cpath, classifier, continuous=False)"
   ],
   "metadata": {
    "collapsed": false,
    "pycharm": {
     "name": "#%%\n"
    }
   }
  },
  {
   "cell_type": "code",
   "execution_count": 4,
   "outputs": [],
   "source": [
    "from keras.layers import Dense\n",
    "from keras.models import Sequential\n",
    "\n",
    "N_FEATURES = 5000\n",
    "N_CLASSES = 4\n",
    "\n",
    "def build_network():\n",
    "    \"\"\"\n",
    "    Create a function that returns a compiled neural network\n",
    "    \"\"\"\n",
    "    nn = Sequential()\n",
    "    nn.add(Dense(500, activation='relu', input_shape=(N_FEATURES,)))\n",
    "    nn.add(Dense(150, activation='relu'))\n",
    "    nn.add(Dense(N_CLASSES, activation='softmax'))\n",
    "    nn.compile(\n",
    "        loss='categorical_crossentropy',\n",
    "        optimizer='adam',\n",
    "        metrics=['accuracy']\n",
    "    )\n",
    "    return nn"
   ],
   "metadata": {
    "collapsed": false,
    "pycharm": {
     "name": "#%%\n"
    }
   }
  },
  {
   "cell_type": "code",
   "execution_count": 5,
   "outputs": [],
   "source": [
    "if __name__ == '__main__':\n",
    "    from sklearn.pipeline import Pipeline\n",
    "    from transformer import TextNormalizer\n",
    "    from keras.wrappers.scikit_learn import KerasClassifier\n",
    "    from sklearn.feature_extraction.text import TfidfVectorizer\n",
    "\n",
    "    pipeline = Pipeline([\n",
    "        ('norm', TextNormalizer()),\n",
    "        ('vect', TfidfVectorizer(max_features=N_FEATURES)),\n",
    "        ('nn', KerasClassifier(build_fn=build_network,\n",
    "                               epochs=200,\n",
    "                               batch_size=128))\n",
    "    ])"
   ],
   "metadata": {
    "collapsed": false,
    "pycharm": {
     "name": "#%%\n"
    }
   }
  },
  {
   "cell_type": "code",
   "execution_count": 6,
   "outputs": [],
   "source": [
    "def train_model(path, model, saveto=None, cv=12):\n",
    "    \"\"\"\n",
    "    Trains model from corpus at specified path and fits on full data.\n",
    "    If a saveto dictionary is specified, writes Keras and Sklearn\n",
    "    pipeline components to disk separately. Returns the scores.\n",
    "    \"\"\"\n",
    "    corpus = PickledReviewsReader(path)\n",
    "    X = documents(corpus)\n",
    "    y = make_categorical(corpus)\n",
    "\n",
    "    scores = cross_val_score(model, X, y, cv=cv, scoring='accuracy', n_jobs=-1)\n",
    "    model.fit(X, y)\n",
    "\n",
    "    if saveto:\n",
    "        model.steps[-1][1].model.save(saveto['keras_model'])\n",
    "        model.steps.pop(-1)\n",
    "        joblib.dump(model, saveto['sklearn_pipe'])\n",
    "\n",
    "    return scores"
   ],
   "metadata": {
    "collapsed": false,
    "pycharm": {
     "name": "#%%\n"
    }
   }
  },
  {
   "cell_type": "code",
   "execution_count": 7,
   "outputs": [
    {
     "ename": "OSError",
     "evalue": "No such file or directory: '/home/af/Dokumenter/Programs/AppliedTextAnalysiswithPython/review_corpus_proc'",
     "output_type": "error",
     "traceback": [
      "\u001B[0;31m---------------------------------------------------------------------------\u001B[0m",
      "\u001B[0;31mOSError\u001B[0m                                   Traceback (most recent call last)",
      "\u001B[0;32m<ipython-input-7-e01f8b0cc32d>\u001B[0m in \u001B[0;36m<module>\u001B[0;34m\u001B[0m\n\u001B[1;32m      4\u001B[0m     \u001B[0;34m'sklearn_pipe'\u001B[0m \u001B[0;34m:\u001B[0m \u001B[0;34m'pipeline.pkl'\u001B[0m\u001B[0;34m\u001B[0m\u001B[0;34m\u001B[0m\u001B[0m\n\u001B[1;32m      5\u001B[0m }\n\u001B[0;32m----> 6\u001B[0;31m \u001B[0mscores\u001B[0m \u001B[0;34m=\u001B[0m \u001B[0mtrain_model\u001B[0m\u001B[0;34m(\u001B[0m\u001B[0mcpath\u001B[0m\u001B[0;34m,\u001B[0m \u001B[0mpipeline\u001B[0m\u001B[0;34m,\u001B[0m \u001B[0msaveto\u001B[0m\u001B[0;34m=\u001B[0m\u001B[0mmpath\u001B[0m\u001B[0;34m,\u001B[0m \u001B[0mcv\u001B[0m\u001B[0;34m=\u001B[0m\u001B[0;36m12\u001B[0m\u001B[0;34m)\u001B[0m\u001B[0;34m\u001B[0m\u001B[0;34m\u001B[0m\u001B[0m\n\u001B[0m",
      "\u001B[0;32m<ipython-input-6-7a9cbb18e312>\u001B[0m in \u001B[0;36mtrain_model\u001B[0;34m(path, model, saveto, cv)\u001B[0m\n\u001B[1;32m      5\u001B[0m     \u001B[0mpipeline\u001B[0m \u001B[0mcomponents\u001B[0m \u001B[0mto\u001B[0m \u001B[0mdisk\u001B[0m \u001B[0mseparately\u001B[0m\u001B[0;34m.\u001B[0m \u001B[0mReturns\u001B[0m \u001B[0mthe\u001B[0m \u001B[0mscores\u001B[0m\u001B[0;34m.\u001B[0m\u001B[0;34m\u001B[0m\u001B[0;34m\u001B[0m\u001B[0m\n\u001B[1;32m      6\u001B[0m     \"\"\"\n\u001B[0;32m----> 7\u001B[0;31m     \u001B[0mcorpus\u001B[0m \u001B[0;34m=\u001B[0m \u001B[0mPickledReviewsReader\u001B[0m\u001B[0;34m(\u001B[0m\u001B[0mpath\u001B[0m\u001B[0;34m)\u001B[0m\u001B[0;34m\u001B[0m\u001B[0;34m\u001B[0m\u001B[0m\n\u001B[0m\u001B[1;32m      8\u001B[0m     \u001B[0mX\u001B[0m \u001B[0;34m=\u001B[0m \u001B[0mdocuments\u001B[0m\u001B[0;34m(\u001B[0m\u001B[0mcorpus\u001B[0m\u001B[0;34m)\u001B[0m\u001B[0;34m\u001B[0m\u001B[0;34m\u001B[0m\u001B[0m\n\u001B[1;32m      9\u001B[0m     \u001B[0my\u001B[0m \u001B[0;34m=\u001B[0m \u001B[0mmake_categorical\u001B[0m\u001B[0;34m(\u001B[0m\u001B[0mcorpus\u001B[0m\u001B[0;34m)\u001B[0m\u001B[0;34m\u001B[0m\u001B[0;34m\u001B[0m\u001B[0m\n",
      "\u001B[0;32m~/Dokumenter/Programs/AppliedTextAnalysiswithPython/Chapter 12/reader.py\u001B[0m in \u001B[0;36m__init__\u001B[0;34m(self, root, fileids, **kwargs)\u001B[0m\n\u001B[1;32m    141\u001B[0m         \u001B[0mInitialize\u001B[0m \u001B[0mthe\u001B[0m \u001B[0mcorpus\u001B[0m \u001B[0mreader\u001B[0m\u001B[0;34m\u001B[0m\u001B[0;34m\u001B[0m\u001B[0m\n\u001B[1;32m    142\u001B[0m         \"\"\"\n\u001B[0;32m--> 143\u001B[0;31m         \u001B[0mCorpusReader\u001B[0m\u001B[0;34m.\u001B[0m\u001B[0m__init__\u001B[0m\u001B[0;34m(\u001B[0m\u001B[0mself\u001B[0m\u001B[0;34m,\u001B[0m \u001B[0mroot\u001B[0m\u001B[0;34m,\u001B[0m \u001B[0mfileids\u001B[0m\u001B[0;34m,\u001B[0m \u001B[0;34m**\u001B[0m\u001B[0mkwargs\u001B[0m\u001B[0;34m)\u001B[0m\u001B[0;34m\u001B[0m\u001B[0;34m\u001B[0m\u001B[0m\n\u001B[0m\u001B[1;32m    144\u001B[0m \u001B[0;34m\u001B[0m\u001B[0m\n\u001B[1;32m    145\u001B[0m     \u001B[0;32mdef\u001B[0m \u001B[0mtexts_scores\u001B[0m\u001B[0;34m(\u001B[0m\u001B[0mself\u001B[0m\u001B[0;34m,\u001B[0m \u001B[0mfileids\u001B[0m\u001B[0;34m=\u001B[0m\u001B[0;32mNone\u001B[0m\u001B[0;34m)\u001B[0m\u001B[0;34m:\u001B[0m\u001B[0;34m\u001B[0m\u001B[0;34m\u001B[0m\u001B[0m\n",
      "\u001B[0;32m~/Dokumenter/Programs/miniconda3/envs/AppliedTextAnalysiswithPython/lib/python3.8/site-packages/nltk/corpus/reader/api.py\u001B[0m in \u001B[0;36m__init__\u001B[0;34m(self, root, fileids, encoding, tagset)\u001B[0m\n\u001B[1;32m     78\u001B[0m                 \u001B[0mroot\u001B[0m \u001B[0;34m=\u001B[0m \u001B[0mZipFilePathPointer\u001B[0m\u001B[0;34m(\u001B[0m\u001B[0mzipfile\u001B[0m\u001B[0;34m,\u001B[0m \u001B[0mzipentry\u001B[0m\u001B[0;34m)\u001B[0m\u001B[0;34m\u001B[0m\u001B[0;34m\u001B[0m\u001B[0m\n\u001B[1;32m     79\u001B[0m             \u001B[0;32melse\u001B[0m\u001B[0;34m:\u001B[0m\u001B[0;34m\u001B[0m\u001B[0;34m\u001B[0m\u001B[0m\n\u001B[0;32m---> 80\u001B[0;31m                 \u001B[0mroot\u001B[0m \u001B[0;34m=\u001B[0m \u001B[0mFileSystemPathPointer\u001B[0m\u001B[0;34m(\u001B[0m\u001B[0mroot\u001B[0m\u001B[0;34m)\u001B[0m\u001B[0;34m\u001B[0m\u001B[0;34m\u001B[0m\u001B[0m\n\u001B[0m\u001B[1;32m     81\u001B[0m         \u001B[0;32melif\u001B[0m \u001B[0;32mnot\u001B[0m \u001B[0misinstance\u001B[0m\u001B[0;34m(\u001B[0m\u001B[0mroot\u001B[0m\u001B[0;34m,\u001B[0m \u001B[0mPathPointer\u001B[0m\u001B[0;34m)\u001B[0m\u001B[0;34m:\u001B[0m\u001B[0;34m\u001B[0m\u001B[0;34m\u001B[0m\u001B[0m\n\u001B[1;32m     82\u001B[0m             \u001B[0;32mraise\u001B[0m \u001B[0mTypeError\u001B[0m\u001B[0;34m(\u001B[0m\u001B[0;34m\"CorpusReader: expected a string or a PathPointer\"\u001B[0m\u001B[0;34m)\u001B[0m\u001B[0;34m\u001B[0m\u001B[0;34m\u001B[0m\u001B[0m\n",
      "\u001B[0;32m~/Dokumenter/Programs/miniconda3/envs/AppliedTextAnalysiswithPython/lib/python3.8/site-packages/nltk/compat.py\u001B[0m in \u001B[0;36m_decorator\u001B[0;34m(*args, **kwargs)\u001B[0m\n\u001B[1;32m     39\u001B[0m     \u001B[0;32mdef\u001B[0m \u001B[0m_decorator\u001B[0m\u001B[0;34m(\u001B[0m\u001B[0;34m*\u001B[0m\u001B[0margs\u001B[0m\u001B[0;34m,\u001B[0m \u001B[0;34m**\u001B[0m\u001B[0mkwargs\u001B[0m\u001B[0;34m)\u001B[0m\u001B[0;34m:\u001B[0m\u001B[0;34m\u001B[0m\u001B[0;34m\u001B[0m\u001B[0m\n\u001B[1;32m     40\u001B[0m         \u001B[0margs\u001B[0m \u001B[0;34m=\u001B[0m \u001B[0;34m(\u001B[0m\u001B[0margs\u001B[0m\u001B[0;34m[\u001B[0m\u001B[0;36m0\u001B[0m\u001B[0;34m]\u001B[0m\u001B[0;34m,\u001B[0m \u001B[0madd_py3_data\u001B[0m\u001B[0;34m(\u001B[0m\u001B[0margs\u001B[0m\u001B[0;34m[\u001B[0m\u001B[0;36m1\u001B[0m\u001B[0;34m]\u001B[0m\u001B[0;34m)\u001B[0m\u001B[0;34m)\u001B[0m \u001B[0;34m+\u001B[0m \u001B[0margs\u001B[0m\u001B[0;34m[\u001B[0m\u001B[0;36m2\u001B[0m\u001B[0;34m:\u001B[0m\u001B[0;34m]\u001B[0m\u001B[0;34m\u001B[0m\u001B[0;34m\u001B[0m\u001B[0m\n\u001B[0;32m---> 41\u001B[0;31m         \u001B[0;32mreturn\u001B[0m \u001B[0minit_func\u001B[0m\u001B[0;34m(\u001B[0m\u001B[0;34m*\u001B[0m\u001B[0margs\u001B[0m\u001B[0;34m,\u001B[0m \u001B[0;34m**\u001B[0m\u001B[0mkwargs\u001B[0m\u001B[0;34m)\u001B[0m\u001B[0;34m\u001B[0m\u001B[0;34m\u001B[0m\u001B[0m\n\u001B[0m\u001B[1;32m     42\u001B[0m \u001B[0;34m\u001B[0m\u001B[0m\n\u001B[1;32m     43\u001B[0m     \u001B[0;32mreturn\u001B[0m \u001B[0mwraps\u001B[0m\u001B[0;34m(\u001B[0m\u001B[0minit_func\u001B[0m\u001B[0;34m)\u001B[0m\u001B[0;34m(\u001B[0m\u001B[0m_decorator\u001B[0m\u001B[0;34m)\u001B[0m\u001B[0;34m\u001B[0m\u001B[0;34m\u001B[0m\u001B[0m\n",
      "\u001B[0;32m~/Dokumenter/Programs/miniconda3/envs/AppliedTextAnalysiswithPython/lib/python3.8/site-packages/nltk/data.py\u001B[0m in \u001B[0;36m__init__\u001B[0;34m(self, _path)\u001B[0m\n\u001B[1;32m    313\u001B[0m         \u001B[0m_path\u001B[0m \u001B[0;34m=\u001B[0m \u001B[0mos\u001B[0m\u001B[0;34m.\u001B[0m\u001B[0mpath\u001B[0m\u001B[0;34m.\u001B[0m\u001B[0mabspath\u001B[0m\u001B[0;34m(\u001B[0m\u001B[0m_path\u001B[0m\u001B[0;34m)\u001B[0m\u001B[0;34m\u001B[0m\u001B[0;34m\u001B[0m\u001B[0m\n\u001B[1;32m    314\u001B[0m         \u001B[0;32mif\u001B[0m \u001B[0;32mnot\u001B[0m \u001B[0mos\u001B[0m\u001B[0;34m.\u001B[0m\u001B[0mpath\u001B[0m\u001B[0;34m.\u001B[0m\u001B[0mexists\u001B[0m\u001B[0;34m(\u001B[0m\u001B[0m_path\u001B[0m\u001B[0;34m)\u001B[0m\u001B[0;34m:\u001B[0m\u001B[0;34m\u001B[0m\u001B[0;34m\u001B[0m\u001B[0m\n\u001B[0;32m--> 315\u001B[0;31m             \u001B[0;32mraise\u001B[0m \u001B[0mIOError\u001B[0m\u001B[0;34m(\u001B[0m\u001B[0;34m\"No such file or directory: %r\"\u001B[0m \u001B[0;34m%\u001B[0m \u001B[0m_path\u001B[0m\u001B[0;34m)\u001B[0m\u001B[0;34m\u001B[0m\u001B[0;34m\u001B[0m\u001B[0m\n\u001B[0m\u001B[1;32m    316\u001B[0m         \u001B[0mself\u001B[0m\u001B[0;34m.\u001B[0m\u001B[0m_path\u001B[0m \u001B[0;34m=\u001B[0m \u001B[0m_path\u001B[0m\u001B[0;34m\u001B[0m\u001B[0;34m\u001B[0m\u001B[0m\n\u001B[1;32m    317\u001B[0m \u001B[0;34m\u001B[0m\u001B[0m\n",
      "\u001B[0;31mOSError\u001B[0m: No such file or directory: '/home/af/Dokumenter/Programs/AppliedTextAnalysiswithPython/review_corpus_proc'"
     ]
    }
   ],
   "source": [
    "cpath = '../review_corpus_proc'\n",
    "mpath = {\n",
    "    'keras_model'  : 'keras_nn.h5',\n",
    "    'sklearn_pipe' : 'pipeline.pkl'\n",
    "}\n",
    "scores = train_model(cpath, pipeline, saveto=mpath, cv=12)"
   ],
   "metadata": {
    "collapsed": false,
    "pycharm": {
     "name": "#%%\n"
    }
   }
  },
  {
   "cell_type": "code",
   "execution_count": 1,
   "outputs": [
    {
     "ename": "NameError",
     "evalue": "name 'BaseEstimator' is not defined",
     "output_type": "error",
     "traceback": [
      "\u001B[0;31m---------------------------------------------------------------------------\u001B[0m",
      "\u001B[0;31mNameError\u001B[0m                                 Traceback (most recent call last)",
      "\u001B[0;32m<ipython-input-1-f3be0ad7ab7d>\u001B[0m in \u001B[0;36m<module>\u001B[0;34m\u001B[0m\n\u001B[0;32m----> 1\u001B[0;31m \u001B[0;32mclass\u001B[0m \u001B[0mKeyphraseExtractor\u001B[0m\u001B[0;34m(\u001B[0m\u001B[0mBaseEstimator\u001B[0m\u001B[0;34m,\u001B[0m \u001B[0mTransformerMixin\u001B[0m\u001B[0;34m)\u001B[0m\u001B[0;34m:\u001B[0m\u001B[0;34m\u001B[0m\u001B[0;34m\u001B[0m\u001B[0m\n\u001B[0m\u001B[1;32m      2\u001B[0m     \"\"\"\n\u001B[1;32m      3\u001B[0m     \u001B[0mExtract\u001B[0m \u001B[0madverbial\u001B[0m \u001B[0;32mand\u001B[0m \u001B[0madjective\u001B[0m \u001B[0mphrases\u001B[0m\u001B[0;34m,\u001B[0m \u001B[0;32mand\u001B[0m \u001B[0mtransform\u001B[0m\u001B[0;34m\u001B[0m\u001B[0;34m\u001B[0m\u001B[0m\n\u001B[1;32m      4\u001B[0m     \u001B[0mdocuments\u001B[0m \u001B[0minto\u001B[0m \u001B[0mlists\u001B[0m \u001B[0mof\u001B[0m \u001B[0mthese\u001B[0m \u001B[0mkeyphrases\u001B[0m\u001B[0;34m,\u001B[0m \u001B[0;32mwith\u001B[0m \u001B[0ma\u001B[0m \u001B[0mtotal\u001B[0m\u001B[0;34m\u001B[0m\u001B[0;34m\u001B[0m\u001B[0m\n\u001B[1;32m      5\u001B[0m     \u001B[0mkeyphrase\u001B[0m \u001B[0mlexicon\u001B[0m \u001B[0mlimited\u001B[0m \u001B[0mby\u001B[0m \u001B[0mthe\u001B[0m \u001B[0mnfeatures\u001B[0m \u001B[0mparameter\u001B[0m\u001B[0;34m\u001B[0m\u001B[0;34m\u001B[0m\u001B[0m\n",
      "\u001B[0;31mNameError\u001B[0m: name 'BaseEstimator' is not defined"
     ]
    }
   ],
   "source": [
    "class KeyphraseExtractor(BaseEstimator, TransformerMixin):\n",
    "    \"\"\"\n",
    "    Extract adverbial and adjective phrases, and transform\n",
    "    documents into lists of these keyphrases, with a total\n",
    "    keyphrase lexicon limited by the nfeatures parameter\n",
    "    and a document length limited/padded to doclen\n",
    "    \"\"\"\n",
    "    def __init__(self, nfeatures=100000, doclen=60):\n",
    "        self.grammar = r'KT: {(<RB.> <JJ.*>|<VB.*>|<RB.*>)|(<JJ> <NN.*>)}'\n",
    "        self.chunker = RegexpParser(self.grammar)\n",
    "        self.nfeatures = nfeatures\n",
    "        self.doclen = doclen\n",
    "\n",
    "    def normalize(self, sent):\n",
    "        is_punct = lambda word: all(unicat(c).startswith('P') for c in word)\n",
    "        sent = filter(lambda t: not is_punct(t[0]), sent)\n",
    "        sent = map(lambda t: (t[0].lower(), t[1]), sent)\n",
    "        return list(sent)\n",
    "\n",
    "    def extract_candidate_phrases(self, sents):\n",
    "        \"\"\"\n",
    "        For a document, parse sentences using our chunker created by\n",
    "        our grammar, converting the parse tree into a tagged sequence.\n",
    "        Extract phrases, rejoin with a space, and yield the document\n",
    "        represented as a list of its keyphrases.\n",
    "        \"\"\"\n",
    "        for sent in sents:\n",
    "            sent = self.normalize(sent)\n",
    "            if not sent: continue\n",
    "            chunks = tree2conlltags(self.chunker.parse(sent))\n",
    "            phrases = [\n",
    "                \" \".join(word for word, pos, chunk in group).lower()\n",
    "                for key, group in groupby(\n",
    "                    chunks, lambda term: term[-1] != 'O'\n",
    "                ) if key\n",
    "            ]\n",
    "            for phrase in phrases:\n",
    "                yield phrase\n",
    "\n",
    "    def get_lexicon(self, keydocs):\n",
    "        \"\"\"\n",
    "        Build a lexicon of size nfeatures\n",
    "        \"\"\"\n",
    "        keyphrases = [keyphrase for doc in keydocs for keyphrase in doc]\n",
    "        fdist = FreqDist(keyphrases)\n",
    "        counts = fdist.most_common(self.nfeatures)\n",
    "        lexicon = [phrase for phrase, count in counts]\n",
    "        return {phrase: idx+1 for idx, phrase in enumerate(lexicon)}\n",
    "\n",
    "    def clip(self, keydoc, lexicon):\n",
    "        \"\"\"\n",
    "        Remove keyphrases from documents that aren't in the lexicon\n",
    "        \"\"\"\n",
    "        return [lexicon[keyphrase] for keyphrase in keydoc\n",
    "                if keyphrase in lexicon.keys()]"
   ],
   "metadata": {
    "collapsed": false,
    "pycharm": {
     "name": "#%%\n"
    }
   }
  },
  {
   "cell_type": "code",
   "execution_count": 2,
   "outputs": [
    {
     "ename": "IndentationError",
     "evalue": "unexpected indent (<ipython-input-2-24498f5c57b6>, line 3)",
     "output_type": "error",
     "traceback": [
      "\u001B[0;36m  File \u001B[0;32m\"<ipython-input-2-24498f5c57b6>\"\u001B[0;36m, line \u001B[0;32m3\u001B[0m\n\u001B[0;31m    def fit(self, documents, y=None):\u001B[0m\n\u001B[0m    ^\u001B[0m\n\u001B[0;31mIndentationError\u001B[0m\u001B[0;31m:\u001B[0m unexpected indent\n"
     ]
    }
   ],
   "source": [
    "from keras.preprocessing import sequence\n",
    "\n",
    "    def fit(self, documents, y=None):\n",
    "        return self\n",
    "\n",
    "    def transform(self, documents):\n",
    "        docs = [list(self.extract_candidate_phrases(doc)) for doc in documents]\n",
    "        lexicon = self.get_lexicon(docs)\n",
    "        clipped = [list(self.clip(doc, lexicon)) for doc in docs]\n",
    "        return sequence.pad_sequences(clipped, maxlen=self.doclen)"
   ],
   "metadata": {
    "collapsed": false,
    "pycharm": {
     "name": "#%%\n"
    }
   }
  },
  {
   "cell_type": "code",
   "execution_count": 3,
   "outputs": [],
   "source": [
    "N_FEATURES = 100000\n",
    "N_CLASSES = 2\n",
    "DOC_LEN = 60\n",
    "\n",
    "\n",
    "def build_lstm():\n",
    "    lstm = Sequential()\n",
    "    lstm.add(Embedding(N_FEATURES, 128, input_length=DOC_LEN))\n",
    "    lstm.add(Dropout(0.4))\n",
    "    lstm.add(LSTM(units=200, recurrent_dropout=0.2, dropout=0.2))\n",
    "    lstm.add(Dropout(0.2))\n",
    "    lstm.add(Dense(N_CLASSES, activation='sigmoid'))\n",
    "    lstm.compile(\n",
    "        loss='categorical_crossentropy',\n",
    "        optimizer='adam',\n",
    "        metrics=['accuracy']\n",
    "    )\n",
    "    return lstm"
   ],
   "metadata": {
    "collapsed": false,
    "pycharm": {
     "name": "#%%\n"
    }
   }
  },
  {
   "cell_type": "code",
   "execution_count": 4,
   "outputs": [],
   "source": [
    "def binarize(corpus):\n",
    "    \"\"\"\n",
    "    hated it : 0.0 < y <= 3.0\n",
    "    liked it : 3.0 < y <= 5.1\n",
    "    \"\"\"\n",
    "    return np.digitize(continuous(corpus), [0.0, 3.0, 5.1])\n",
    "\n",
    "def train_model(path, model, cv=12, **kwargs):\n",
    "    corpus = PickledAmazonReviewsReader(path)\n",
    "    X = documents(corpus)\n",
    "    y = binarize(corpus)\n",
    "    scores = cross_val_score(model, X, y, cv=cv, scoring='accuracy')\n",
    "    model.fit(X, y)\n",
    "\n",
    "    return scores"
   ],
   "metadata": {
    "collapsed": false,
    "pycharm": {
     "name": "#%%\n"
    }
   }
  },
  {
   "cell_type": "code",
   "execution_count": 5,
   "outputs": [
    {
     "ename": "NameError",
     "evalue": "name 'Pipeline' is not defined",
     "output_type": "error",
     "traceback": [
      "\u001B[0;31m---------------------------------------------------------------------------\u001B[0m",
      "\u001B[0;31mNameError\u001B[0m                                 Traceback (most recent call last)",
      "\u001B[0;32m<ipython-input-5-1c3838dc49b5>\u001B[0m in \u001B[0;36m<module>\u001B[0;34m\u001B[0m\n\u001B[1;32m      1\u001B[0m \u001B[0;32mif\u001B[0m \u001B[0m__name__\u001B[0m \u001B[0;34m==\u001B[0m \u001B[0;34m'__main__'\u001B[0m\u001B[0;34m:\u001B[0m\u001B[0;34m\u001B[0m\u001B[0;34m\u001B[0m\u001B[0m\n\u001B[1;32m      2\u001B[0m     \u001B[0mam_path\u001B[0m \u001B[0;34m=\u001B[0m \u001B[0;34m'../am_reviews_proc'\u001B[0m\u001B[0;34m\u001B[0m\u001B[0;34m\u001B[0m\u001B[0m\n\u001B[0;32m----> 3\u001B[0;31m     pipeline = Pipeline([\n\u001B[0m\u001B[1;32m      4\u001B[0m         \u001B[0;34m(\u001B[0m\u001B[0;34m'keyphrases'\u001B[0m\u001B[0;34m,\u001B[0m \u001B[0mKeyphraseExtractor\u001B[0m\u001B[0;34m(\u001B[0m\u001B[0;34m)\u001B[0m\u001B[0;34m)\u001B[0m\u001B[0;34m,\u001B[0m\u001B[0;34m\u001B[0m\u001B[0;34m\u001B[0m\u001B[0m\n\u001B[1;32m      5\u001B[0m         ('lstm', KerasClassifier(build_fn=build_nn,\n",
      "\u001B[0;31mNameError\u001B[0m: name 'Pipeline' is not defined"
     ]
    }
   ],
   "source": [
    "if __name__ == '__main__':\n",
    "    am_path = '../am_reviews_proc'\n",
    "    pipeline = Pipeline([\n",
    "        ('keyphrases', KeyphraseExtractor()),\n",
    "        ('lstm', KerasClassifier(build_fn=build_nn,\n",
    "                                 epochs=20,\n",
    "                                 batch_size=128))\n",
    "    ])\n",
    "\n",
    "    scores = train_model(am_path, pipeline, cv=12)"
   ],
   "metadata": {
    "collapsed": false,
    "pycharm": {
     "name": "#%%\n"
    }
   }
  },
  {
   "cell_type": "code",
   "execution_count": null,
   "outputs": [],
   "source": [],
   "metadata": {
    "collapsed": false,
    "pycharm": {
     "name": "#%%\n"
    }
   }
  }
 ],
 "metadata": {
  "kernelspec": {
   "display_name": "Python 3",
   "language": "python",
   "name": "python3"
  },
  "language_info": {
   "codemirror_mode": {
    "name": "ipython",
    "version": 2
   },
   "file_extension": ".py",
   "mimetype": "text/x-python",
   "name": "python",
   "nbconvert_exporter": "python",
   "pygments_lexer": "ipython2",
   "version": "2.7.6"
  }
 },
 "nbformat": 4,
 "nbformat_minor": 0
}