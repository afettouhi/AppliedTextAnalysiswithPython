{
 "cells": [
  {
   "cell_type": "code",
   "execution_count": 1,
   "metadata": {
    "collapsed": true
   },
   "outputs": [],
   "source": [
    "headlines = ['FDA approves gene therapy',\n",
    "             'Gene therapy reduces tumor growth',\n",
    "             'FDA recalls pacemakers']"
   ]
  },
  {
   "cell_type": "code",
   "execution_count": 2,
   "outputs": [],
   "source": [
    "import networkx as nx\n",
    "from nltk.corpus import wordnet as wn\n",
    "\n",
    "def graph_synsets(terms, pos=wn.NOUN, depth=2):\n",
    "    \"\"\"\n",
    "    Create a networkx graph of the given terms to the given depth.\n",
    "    \"\"\"\n",
    "\n",
    "    G = nx.Graph(\n",
    "        name=\"WordNet Synsets Graph for {}\".format(\", \".join(terms)), depth=depth,\n",
    "    )\n",
    "\n",
    "    def add_term_links(G, term, current_depth):\n",
    "        for syn in wn.synsets(term):\n",
    "            for name in syn.lemma_names():\n",
    "                G.add_edge(term, name)\n",
    "                if current_depth < depth:\n",
    "                    add_term_links(G, name, current_depth+1)\n",
    "\n",
    "    for term in terms:\n",
    "        add_term_links(G, term, 0)\n",
    "\n",
    "    return G"
   ],
   "metadata": {
    "collapsed": false,
    "pycharm": {
     "name": "#%%\n"
    }
   }
  },
  {
   "cell_type": "code",
   "execution_count": 3,
   "outputs": [
    {
     "name": "stdout",
     "output_type": "stream",
     "text": [
      "Name: WordNet Synsets Graph for trinket\n",
      "Type: Graph\n",
      "Number of nodes: 25\n",
      "Number of edges: 49\n",
      "Average degree:   3.9200\n"
     ]
    }
   ],
   "source": [
    "G = graph_synsets([\"trinket\"])\n",
    "print(nx.info(G))"
   ],
   "metadata": {
    "collapsed": false,
    "pycharm": {
     "name": "#%%\n"
    }
   }
  },
  {
   "cell_type": "code",
   "execution_count": 4,
   "outputs": [
    {
     "data": {
      "text/plain": "5"
     },
     "execution_count": 4,
     "metadata": {},
     "output_type": "execute_result"
    }
   ],
   "source": [
    "nx.diameter(G)"
   ],
   "metadata": {
    "collapsed": false,
    "pycharm": {
     "name": "#%%\n"
    }
   }
  },
  {
   "cell_type": "code",
   "execution_count": 5,
   "outputs": [],
   "source": [
    "import matplotlib.pyplot as plt\n",
    "\n",
    "def draw_text_graph(G):\n",
    "    pos = nx.spring_layout(G, scale=18)\n",
    "    nx.draw_networkx_nodes(\n",
    "        G, pos, node_color=\"white\", linewidths=0, node_size=500\n",
    "    )\n",
    "    nx.draw_networkx_labels(G, pos, font_size=10)\n",
    "    nx.draw_networkx_edges(G, pos, edge_color='lightgrey')\n",
    "\n",
    "    plt.tick_params(\n",
    "        axis='both',       # changes apply to both the x- and y-axis\n",
    "        which='both',      # both major and minor ticks are affected\n",
    "        bottom='off',      # turn off ticks along bottom edge\n",
    "        left='off',        # turn off ticks along left edge\n",
    "        labelbottom='off', # turn off labels along bottom edge\n",
    "        labelleft='off')   # turn off labels along left edge\n",
    "\n",
    "    plt.show()"
   ],
   "metadata": {
    "collapsed": false,
    "pycharm": {
     "name": "#%%\n"
    }
   }
  },
  {
   "cell_type": "code",
   "execution_count": 6,
   "outputs": [],
   "source": [
    "import itertools\n",
    "from sklearn.base import BaseEstimator, TransformerMixin\n",
    "\n",
    "class EntityPairs(BaseEstimator, TransformerMixin):\n",
    "    def __init__(self):\n",
    "        super(EntityPairs, self).__init__()\n",
    "\n",
    "    def pairs(self, document):\n",
    "        return list(itertools.permutations(set(document), 2))\n",
    "\n",
    "    def fit(self, documents, labels=None):\n",
    "        return self\n",
    "\n",
    "    def transform(self, documents):\n",
    "        return [self.pairs(document) for document in documents]"
   ],
   "metadata": {
    "collapsed": false,
    "pycharm": {
     "name": "#%%\n"
    }
   }
  },
  {
   "cell_type": "code",
   "execution_count": 7,
   "outputs": [],
   "source": [
    "import networkx as nx\n",
    "\n",
    "class GraphExtractor(BaseEstimator,TransformerMixin):\n",
    "    def __init__(self):\n",
    "        self.G = nx.Graph()\n",
    "\n",
    "\n",
    "    def fit(self, documents, labels=None):\n",
    "        return self\n",
    "\n",
    "    def transform(self, documents):\n",
    "        for document in documents:\n",
    "            for first, second in document:\n",
    "                if (first, second) in self.G.edges():\n",
    "                    self.G.edges[(first, second)]['weight'] += 1\n",
    "                else:\n",
    "                    self.G.add_edge(first, second, weight=1)\n",
    "        return self.G"
   ],
   "metadata": {
    "collapsed": false,
    "pycharm": {
     "name": "#%%\n"
    }
   }
  },
  {
   "cell_type": "code",
   "execution_count": 8,
   "outputs": [
    {
     "ename": "OSError",
     "evalue": "No such file or directory: '/home/af/Dokumenter/Programs/AppliedTextAnalysiswithPython/corpus'",
     "output_type": "error",
     "traceback": [
      "\u001B[0;31m---------------------------------------------------------------------------\u001B[0m",
      "\u001B[0;31mOSError\u001B[0m                                   Traceback (most recent call last)",
      "\u001B[0;32m<ipython-input-8-225c25957168>\u001B[0m in \u001B[0;36m<module>\u001B[0;34m\u001B[0m\n\u001B[1;32m      3\u001B[0m     \u001B[0;32mfrom\u001B[0m \u001B[0msklearn\u001B[0m\u001B[0;34m.\u001B[0m\u001B[0mpipeline\u001B[0m \u001B[0;32mimport\u001B[0m \u001B[0mPipeline\u001B[0m\u001B[0;34m\u001B[0m\u001B[0;34m\u001B[0m\u001B[0m\n\u001B[1;32m      4\u001B[0m \u001B[0;34m\u001B[0m\u001B[0m\n\u001B[0;32m----> 5\u001B[0;31m     \u001B[0mcorpus\u001B[0m \u001B[0;34m=\u001B[0m \u001B[0mPickledCorpusReader\u001B[0m\u001B[0;34m(\u001B[0m\u001B[0;34m'../corpus'\u001B[0m\u001B[0;34m)\u001B[0m\u001B[0;34m\u001B[0m\u001B[0;34m\u001B[0m\u001B[0m\n\u001B[0m\u001B[1;32m      6\u001B[0m     \u001B[0mdocs\u001B[0m \u001B[0;34m=\u001B[0m \u001B[0mcorpus\u001B[0m\u001B[0;34m.\u001B[0m\u001B[0mdocs\u001B[0m\u001B[0;34m(\u001B[0m\u001B[0;34m)\u001B[0m\u001B[0;34m\u001B[0m\u001B[0;34m\u001B[0m\u001B[0m\n\u001B[1;32m      7\u001B[0m \u001B[0;34m\u001B[0m\u001B[0m\n",
      "\u001B[0;32m~/Dokumenter/Programs/AppliedTextAnalysiswithPython/Chapter 9/reader.py\u001B[0m in \u001B[0;36m__init__\u001B[0;34m(self, root, fileids, **kwargs)\u001B[0m\n\u001B[1;32m     29\u001B[0m \u001B[0;34m\u001B[0m\u001B[0m\n\u001B[1;32m     30\u001B[0m         \u001B[0mCategorizedCorpusReader\u001B[0m\u001B[0;34m.\u001B[0m\u001B[0m__init__\u001B[0m\u001B[0;34m(\u001B[0m\u001B[0mself\u001B[0m\u001B[0;34m,\u001B[0m \u001B[0mkwargs\u001B[0m\u001B[0;34m)\u001B[0m\u001B[0;34m\u001B[0m\u001B[0;34m\u001B[0m\u001B[0m\n\u001B[0;32m---> 31\u001B[0;31m         \u001B[0mCorpusReader\u001B[0m\u001B[0;34m.\u001B[0m\u001B[0m__init__\u001B[0m\u001B[0;34m(\u001B[0m\u001B[0mself\u001B[0m\u001B[0;34m,\u001B[0m \u001B[0mroot\u001B[0m\u001B[0;34m,\u001B[0m \u001B[0mfileids\u001B[0m\u001B[0;34m)\u001B[0m\u001B[0;34m\u001B[0m\u001B[0;34m\u001B[0m\u001B[0m\n\u001B[0m\u001B[1;32m     32\u001B[0m \u001B[0;34m\u001B[0m\u001B[0m\n\u001B[1;32m     33\u001B[0m         \u001B[0mself\u001B[0m\u001B[0;34m.\u001B[0m\u001B[0m_word_tokenizer\u001B[0m \u001B[0;34m=\u001B[0m \u001B[0mWordPunctTokenizer\u001B[0m\u001B[0;34m(\u001B[0m\u001B[0;34m)\u001B[0m\u001B[0;34m\u001B[0m\u001B[0;34m\u001B[0m\u001B[0m\n",
      "\u001B[0;32m~/Dokumenter/Programs/miniconda3/envs/AppliedTextAnalysiswithPython/lib/python3.8/site-packages/nltk/corpus/reader/api.py\u001B[0m in \u001B[0;36m__init__\u001B[0;34m(self, root, fileids, encoding, tagset)\u001B[0m\n\u001B[1;32m     78\u001B[0m                 \u001B[0mroot\u001B[0m \u001B[0;34m=\u001B[0m \u001B[0mZipFilePathPointer\u001B[0m\u001B[0;34m(\u001B[0m\u001B[0mzipfile\u001B[0m\u001B[0;34m,\u001B[0m \u001B[0mzipentry\u001B[0m\u001B[0;34m)\u001B[0m\u001B[0;34m\u001B[0m\u001B[0;34m\u001B[0m\u001B[0m\n\u001B[1;32m     79\u001B[0m             \u001B[0;32melse\u001B[0m\u001B[0;34m:\u001B[0m\u001B[0;34m\u001B[0m\u001B[0;34m\u001B[0m\u001B[0m\n\u001B[0;32m---> 80\u001B[0;31m                 \u001B[0mroot\u001B[0m \u001B[0;34m=\u001B[0m \u001B[0mFileSystemPathPointer\u001B[0m\u001B[0;34m(\u001B[0m\u001B[0mroot\u001B[0m\u001B[0;34m)\u001B[0m\u001B[0;34m\u001B[0m\u001B[0;34m\u001B[0m\u001B[0m\n\u001B[0m\u001B[1;32m     81\u001B[0m         \u001B[0;32melif\u001B[0m \u001B[0;32mnot\u001B[0m \u001B[0misinstance\u001B[0m\u001B[0;34m(\u001B[0m\u001B[0mroot\u001B[0m\u001B[0;34m,\u001B[0m \u001B[0mPathPointer\u001B[0m\u001B[0;34m)\u001B[0m\u001B[0;34m:\u001B[0m\u001B[0;34m\u001B[0m\u001B[0;34m\u001B[0m\u001B[0m\n\u001B[1;32m     82\u001B[0m             \u001B[0;32mraise\u001B[0m \u001B[0mTypeError\u001B[0m\u001B[0;34m(\u001B[0m\u001B[0;34m\"CorpusReader: expected a string or a PathPointer\"\u001B[0m\u001B[0;34m)\u001B[0m\u001B[0;34m\u001B[0m\u001B[0;34m\u001B[0m\u001B[0m\n",
      "\u001B[0;32m~/Dokumenter/Programs/miniconda3/envs/AppliedTextAnalysiswithPython/lib/python3.8/site-packages/nltk/compat.py\u001B[0m in \u001B[0;36m_decorator\u001B[0;34m(*args, **kwargs)\u001B[0m\n\u001B[1;32m     39\u001B[0m     \u001B[0;32mdef\u001B[0m \u001B[0m_decorator\u001B[0m\u001B[0;34m(\u001B[0m\u001B[0;34m*\u001B[0m\u001B[0margs\u001B[0m\u001B[0;34m,\u001B[0m \u001B[0;34m**\u001B[0m\u001B[0mkwargs\u001B[0m\u001B[0;34m)\u001B[0m\u001B[0;34m:\u001B[0m\u001B[0;34m\u001B[0m\u001B[0;34m\u001B[0m\u001B[0m\n\u001B[1;32m     40\u001B[0m         \u001B[0margs\u001B[0m \u001B[0;34m=\u001B[0m \u001B[0;34m(\u001B[0m\u001B[0margs\u001B[0m\u001B[0;34m[\u001B[0m\u001B[0;36m0\u001B[0m\u001B[0;34m]\u001B[0m\u001B[0;34m,\u001B[0m \u001B[0madd_py3_data\u001B[0m\u001B[0;34m(\u001B[0m\u001B[0margs\u001B[0m\u001B[0;34m[\u001B[0m\u001B[0;36m1\u001B[0m\u001B[0;34m]\u001B[0m\u001B[0;34m)\u001B[0m\u001B[0;34m)\u001B[0m \u001B[0;34m+\u001B[0m \u001B[0margs\u001B[0m\u001B[0;34m[\u001B[0m\u001B[0;36m2\u001B[0m\u001B[0;34m:\u001B[0m\u001B[0;34m]\u001B[0m\u001B[0;34m\u001B[0m\u001B[0;34m\u001B[0m\u001B[0m\n\u001B[0;32m---> 41\u001B[0;31m         \u001B[0;32mreturn\u001B[0m \u001B[0minit_func\u001B[0m\u001B[0;34m(\u001B[0m\u001B[0;34m*\u001B[0m\u001B[0margs\u001B[0m\u001B[0;34m,\u001B[0m \u001B[0;34m**\u001B[0m\u001B[0mkwargs\u001B[0m\u001B[0;34m)\u001B[0m\u001B[0;34m\u001B[0m\u001B[0;34m\u001B[0m\u001B[0m\n\u001B[0m\u001B[1;32m     42\u001B[0m \u001B[0;34m\u001B[0m\u001B[0m\n\u001B[1;32m     43\u001B[0m     \u001B[0;32mreturn\u001B[0m \u001B[0mwraps\u001B[0m\u001B[0;34m(\u001B[0m\u001B[0minit_func\u001B[0m\u001B[0;34m)\u001B[0m\u001B[0;34m(\u001B[0m\u001B[0m_decorator\u001B[0m\u001B[0;34m)\u001B[0m\u001B[0;34m\u001B[0m\u001B[0;34m\u001B[0m\u001B[0m\n",
      "\u001B[0;32m~/Dokumenter/Programs/miniconda3/envs/AppliedTextAnalysiswithPython/lib/python3.8/site-packages/nltk/data.py\u001B[0m in \u001B[0;36m__init__\u001B[0;34m(self, _path)\u001B[0m\n\u001B[1;32m    313\u001B[0m         \u001B[0m_path\u001B[0m \u001B[0;34m=\u001B[0m \u001B[0mos\u001B[0m\u001B[0;34m.\u001B[0m\u001B[0mpath\u001B[0m\u001B[0;34m.\u001B[0m\u001B[0mabspath\u001B[0m\u001B[0;34m(\u001B[0m\u001B[0m_path\u001B[0m\u001B[0;34m)\u001B[0m\u001B[0;34m\u001B[0m\u001B[0;34m\u001B[0m\u001B[0m\n\u001B[1;32m    314\u001B[0m         \u001B[0;32mif\u001B[0m \u001B[0;32mnot\u001B[0m \u001B[0mos\u001B[0m\u001B[0;34m.\u001B[0m\u001B[0mpath\u001B[0m\u001B[0;34m.\u001B[0m\u001B[0mexists\u001B[0m\u001B[0;34m(\u001B[0m\u001B[0m_path\u001B[0m\u001B[0;34m)\u001B[0m\u001B[0;34m:\u001B[0m\u001B[0;34m\u001B[0m\u001B[0;34m\u001B[0m\u001B[0m\n\u001B[0;32m--> 315\u001B[0;31m             \u001B[0;32mraise\u001B[0m \u001B[0mIOError\u001B[0m\u001B[0;34m(\u001B[0m\u001B[0;34m\"No such file or directory: %r\"\u001B[0m \u001B[0;34m%\u001B[0m \u001B[0m_path\u001B[0m\u001B[0;34m)\u001B[0m\u001B[0;34m\u001B[0m\u001B[0;34m\u001B[0m\u001B[0m\n\u001B[0m\u001B[1;32m    316\u001B[0m         \u001B[0mself\u001B[0m\u001B[0;34m.\u001B[0m\u001B[0m_path\u001B[0m \u001B[0;34m=\u001B[0m \u001B[0m_path\u001B[0m\u001B[0;34m\u001B[0m\u001B[0;34m\u001B[0m\u001B[0m\n\u001B[1;32m    317\u001B[0m \u001B[0;34m\u001B[0m\u001B[0m\n",
      "\u001B[0;31mOSError\u001B[0m: No such file or directory: '/home/af/Dokumenter/Programs/AppliedTextAnalysiswithPython/corpus'"
     ]
    }
   ],
   "source": [
    "if __name__ == '__main__':\n",
    "    from reader import PickledCorpusReader\n",
    "    from sklearn.pipeline import Pipeline\n",
    "\n",
    "    corpus = PickledCorpusReader('../corpus')\n",
    "    docs = corpus.docs()\n",
    "\n",
    "    graph = Pipeline([\n",
    "        ('entities', EntityExtractor()),\n",
    "        ('pairs', EntityPairs()),\n",
    "        ('graph', GraphExtractor())\n",
    "    ])\n",
    "\n",
    "    G = graph.fit_transform(docs)\n",
    "    print(nx.info(G))"
   ],
   "metadata": {
    "collapsed": false,
    "pycharm": {
     "name": "#%%\n"
    }
   }
  },
  {
   "cell_type": "code",
   "execution_count": 9,
   "outputs": [],
   "source": [
    "import heapq\n",
    "from operator import itemgetter\n",
    "\n",
    "def nbest_centrality(G, metrics, n=10):\n",
    "    # Compute the centrality scores for each vertex\n",
    "    nbest = {}\n",
    "    for name, metric in metrics.items():\n",
    "        scores = metric(G)\n",
    "\n",
    "        # Set the score as a property on each node\n",
    "        nx.set_node_attributes(G, name=name, values=scores)\n",
    "\n",
    "        # Find the top n scores and print them along with their index\n",
    "        topn = heapq.nlargest(n, scores.items(), key=itemgetter(1))\n",
    "        nbest[name] = topn\n",
    "\n",
    "    return nbest"
   ],
   "metadata": {
    "collapsed": false,
    "pycharm": {
     "name": "#%%\n"
    }
   }
  },
  {
   "cell_type": "code",
   "execution_count": 10,
   "outputs": [
    {
     "ename": "OSError",
     "evalue": "No such file or directory: '/home/af/Dokumenter/Programs/AppliedTextAnalysiswithPython/corpus'",
     "output_type": "error",
     "traceback": [
      "\u001B[0;31m---------------------------------------------------------------------------\u001B[0m",
      "\u001B[0;31mOSError\u001B[0m                                   Traceback (most recent call last)",
      "\u001B[0;32m<ipython-input-10-4fc4850f2f49>\u001B[0m in \u001B[0;36m<module>\u001B[0;34m\u001B[0m\n\u001B[1;32m      1\u001B[0m \u001B[0;32mfrom\u001B[0m \u001B[0mtabulate\u001B[0m \u001B[0;32mimport\u001B[0m \u001B[0mtabulate\u001B[0m\u001B[0;34m\u001B[0m\u001B[0;34m\u001B[0m\u001B[0m\n\u001B[1;32m      2\u001B[0m \u001B[0;34m\u001B[0m\u001B[0m\n\u001B[0;32m----> 3\u001B[0;31m \u001B[0mcorpus\u001B[0m \u001B[0;34m=\u001B[0m \u001B[0mPickledCorpusReader\u001B[0m\u001B[0;34m(\u001B[0m\u001B[0;34m'../corpus'\u001B[0m\u001B[0;34m)\u001B[0m\u001B[0;34m\u001B[0m\u001B[0;34m\u001B[0m\u001B[0m\n\u001B[0m\u001B[1;32m      4\u001B[0m \u001B[0mdocs\u001B[0m \u001B[0;34m=\u001B[0m \u001B[0mcorpus\u001B[0m\u001B[0;34m.\u001B[0m\u001B[0mdocs\u001B[0m\u001B[0;34m(\u001B[0m\u001B[0;34m)\u001B[0m\u001B[0;34m\u001B[0m\u001B[0;34m\u001B[0m\u001B[0m\n\u001B[1;32m      5\u001B[0m \u001B[0;34m\u001B[0m\u001B[0m\n",
      "\u001B[0;32m~/Dokumenter/Programs/AppliedTextAnalysiswithPython/Chapter 9/reader.py\u001B[0m in \u001B[0;36m__init__\u001B[0;34m(self, root, fileids, **kwargs)\u001B[0m\n\u001B[1;32m     29\u001B[0m \u001B[0;34m\u001B[0m\u001B[0m\n\u001B[1;32m     30\u001B[0m         \u001B[0mCategorizedCorpusReader\u001B[0m\u001B[0;34m.\u001B[0m\u001B[0m__init__\u001B[0m\u001B[0;34m(\u001B[0m\u001B[0mself\u001B[0m\u001B[0;34m,\u001B[0m \u001B[0mkwargs\u001B[0m\u001B[0;34m)\u001B[0m\u001B[0;34m\u001B[0m\u001B[0;34m\u001B[0m\u001B[0m\n\u001B[0;32m---> 31\u001B[0;31m         \u001B[0mCorpusReader\u001B[0m\u001B[0;34m.\u001B[0m\u001B[0m__init__\u001B[0m\u001B[0;34m(\u001B[0m\u001B[0mself\u001B[0m\u001B[0;34m,\u001B[0m \u001B[0mroot\u001B[0m\u001B[0;34m,\u001B[0m \u001B[0mfileids\u001B[0m\u001B[0;34m)\u001B[0m\u001B[0;34m\u001B[0m\u001B[0;34m\u001B[0m\u001B[0m\n\u001B[0m\u001B[1;32m     32\u001B[0m \u001B[0;34m\u001B[0m\u001B[0m\n\u001B[1;32m     33\u001B[0m         \u001B[0mself\u001B[0m\u001B[0;34m.\u001B[0m\u001B[0m_word_tokenizer\u001B[0m \u001B[0;34m=\u001B[0m \u001B[0mWordPunctTokenizer\u001B[0m\u001B[0;34m(\u001B[0m\u001B[0;34m)\u001B[0m\u001B[0;34m\u001B[0m\u001B[0;34m\u001B[0m\u001B[0m\n",
      "\u001B[0;32m~/Dokumenter/Programs/miniconda3/envs/AppliedTextAnalysiswithPython/lib/python3.8/site-packages/nltk/corpus/reader/api.py\u001B[0m in \u001B[0;36m__init__\u001B[0;34m(self, root, fileids, encoding, tagset)\u001B[0m\n\u001B[1;32m     78\u001B[0m                 \u001B[0mroot\u001B[0m \u001B[0;34m=\u001B[0m \u001B[0mZipFilePathPointer\u001B[0m\u001B[0;34m(\u001B[0m\u001B[0mzipfile\u001B[0m\u001B[0;34m,\u001B[0m \u001B[0mzipentry\u001B[0m\u001B[0;34m)\u001B[0m\u001B[0;34m\u001B[0m\u001B[0;34m\u001B[0m\u001B[0m\n\u001B[1;32m     79\u001B[0m             \u001B[0;32melse\u001B[0m\u001B[0;34m:\u001B[0m\u001B[0;34m\u001B[0m\u001B[0;34m\u001B[0m\u001B[0m\n\u001B[0;32m---> 80\u001B[0;31m                 \u001B[0mroot\u001B[0m \u001B[0;34m=\u001B[0m \u001B[0mFileSystemPathPointer\u001B[0m\u001B[0;34m(\u001B[0m\u001B[0mroot\u001B[0m\u001B[0;34m)\u001B[0m\u001B[0;34m\u001B[0m\u001B[0;34m\u001B[0m\u001B[0m\n\u001B[0m\u001B[1;32m     81\u001B[0m         \u001B[0;32melif\u001B[0m \u001B[0;32mnot\u001B[0m \u001B[0misinstance\u001B[0m\u001B[0;34m(\u001B[0m\u001B[0mroot\u001B[0m\u001B[0;34m,\u001B[0m \u001B[0mPathPointer\u001B[0m\u001B[0;34m)\u001B[0m\u001B[0;34m:\u001B[0m\u001B[0;34m\u001B[0m\u001B[0;34m\u001B[0m\u001B[0m\n\u001B[1;32m     82\u001B[0m             \u001B[0;32mraise\u001B[0m \u001B[0mTypeError\u001B[0m\u001B[0;34m(\u001B[0m\u001B[0;34m\"CorpusReader: expected a string or a PathPointer\"\u001B[0m\u001B[0;34m)\u001B[0m\u001B[0;34m\u001B[0m\u001B[0;34m\u001B[0m\u001B[0m\n",
      "\u001B[0;32m~/Dokumenter/Programs/miniconda3/envs/AppliedTextAnalysiswithPython/lib/python3.8/site-packages/nltk/compat.py\u001B[0m in \u001B[0;36m_decorator\u001B[0;34m(*args, **kwargs)\u001B[0m\n\u001B[1;32m     39\u001B[0m     \u001B[0;32mdef\u001B[0m \u001B[0m_decorator\u001B[0m\u001B[0;34m(\u001B[0m\u001B[0;34m*\u001B[0m\u001B[0margs\u001B[0m\u001B[0;34m,\u001B[0m \u001B[0;34m**\u001B[0m\u001B[0mkwargs\u001B[0m\u001B[0;34m)\u001B[0m\u001B[0;34m:\u001B[0m\u001B[0;34m\u001B[0m\u001B[0;34m\u001B[0m\u001B[0m\n\u001B[1;32m     40\u001B[0m         \u001B[0margs\u001B[0m \u001B[0;34m=\u001B[0m \u001B[0;34m(\u001B[0m\u001B[0margs\u001B[0m\u001B[0;34m[\u001B[0m\u001B[0;36m0\u001B[0m\u001B[0;34m]\u001B[0m\u001B[0;34m,\u001B[0m \u001B[0madd_py3_data\u001B[0m\u001B[0;34m(\u001B[0m\u001B[0margs\u001B[0m\u001B[0;34m[\u001B[0m\u001B[0;36m1\u001B[0m\u001B[0;34m]\u001B[0m\u001B[0;34m)\u001B[0m\u001B[0;34m)\u001B[0m \u001B[0;34m+\u001B[0m \u001B[0margs\u001B[0m\u001B[0;34m[\u001B[0m\u001B[0;36m2\u001B[0m\u001B[0;34m:\u001B[0m\u001B[0;34m]\u001B[0m\u001B[0;34m\u001B[0m\u001B[0;34m\u001B[0m\u001B[0m\n\u001B[0;32m---> 41\u001B[0;31m         \u001B[0;32mreturn\u001B[0m \u001B[0minit_func\u001B[0m\u001B[0;34m(\u001B[0m\u001B[0;34m*\u001B[0m\u001B[0margs\u001B[0m\u001B[0;34m,\u001B[0m \u001B[0;34m**\u001B[0m\u001B[0mkwargs\u001B[0m\u001B[0;34m)\u001B[0m\u001B[0;34m\u001B[0m\u001B[0;34m\u001B[0m\u001B[0m\n\u001B[0m\u001B[1;32m     42\u001B[0m \u001B[0;34m\u001B[0m\u001B[0m\n\u001B[1;32m     43\u001B[0m     \u001B[0;32mreturn\u001B[0m \u001B[0mwraps\u001B[0m\u001B[0;34m(\u001B[0m\u001B[0minit_func\u001B[0m\u001B[0;34m)\u001B[0m\u001B[0;34m(\u001B[0m\u001B[0m_decorator\u001B[0m\u001B[0;34m)\u001B[0m\u001B[0;34m\u001B[0m\u001B[0;34m\u001B[0m\u001B[0m\n",
      "\u001B[0;32m~/Dokumenter/Programs/miniconda3/envs/AppliedTextAnalysiswithPython/lib/python3.8/site-packages/nltk/data.py\u001B[0m in \u001B[0;36m__init__\u001B[0;34m(self, _path)\u001B[0m\n\u001B[1;32m    313\u001B[0m         \u001B[0m_path\u001B[0m \u001B[0;34m=\u001B[0m \u001B[0mos\u001B[0m\u001B[0;34m.\u001B[0m\u001B[0mpath\u001B[0m\u001B[0;34m.\u001B[0m\u001B[0mabspath\u001B[0m\u001B[0;34m(\u001B[0m\u001B[0m_path\u001B[0m\u001B[0;34m)\u001B[0m\u001B[0;34m\u001B[0m\u001B[0;34m\u001B[0m\u001B[0m\n\u001B[1;32m    314\u001B[0m         \u001B[0;32mif\u001B[0m \u001B[0;32mnot\u001B[0m \u001B[0mos\u001B[0m\u001B[0;34m.\u001B[0m\u001B[0mpath\u001B[0m\u001B[0;34m.\u001B[0m\u001B[0mexists\u001B[0m\u001B[0;34m(\u001B[0m\u001B[0m_path\u001B[0m\u001B[0;34m)\u001B[0m\u001B[0;34m:\u001B[0m\u001B[0;34m\u001B[0m\u001B[0;34m\u001B[0m\u001B[0m\n\u001B[0;32m--> 315\u001B[0;31m             \u001B[0;32mraise\u001B[0m \u001B[0mIOError\u001B[0m\u001B[0;34m(\u001B[0m\u001B[0;34m\"No such file or directory: %r\"\u001B[0m \u001B[0;34m%\u001B[0m \u001B[0m_path\u001B[0m\u001B[0;34m)\u001B[0m\u001B[0;34m\u001B[0m\u001B[0;34m\u001B[0m\u001B[0m\n\u001B[0m\u001B[1;32m    316\u001B[0m         \u001B[0mself\u001B[0m\u001B[0;34m.\u001B[0m\u001B[0m_path\u001B[0m \u001B[0;34m=\u001B[0m \u001B[0m_path\u001B[0m\u001B[0;34m\u001B[0m\u001B[0;34m\u001B[0m\u001B[0m\n\u001B[1;32m    317\u001B[0m \u001B[0;34m\u001B[0m\u001B[0m\n",
      "\u001B[0;31mOSError\u001B[0m: No such file or directory: '/home/af/Dokumenter/Programs/AppliedTextAnalysiswithPython/corpus'"
     ]
    }
   ],
   "source": [
    "from tabulate import tabulate\n",
    "\n",
    "corpus = PickledCorpusReader('../corpus')\n",
    "docs = corpus.docs()\n",
    "\n",
    "graph = Pipeline([\n",
    "        ('entities', EntityExtractor()),\n",
    "        ('pairs', EntityPairs()),\n",
    "        ('graph', GraphExtractor())\n",
    "    ])\n",
    "\n",
    "G = graph.fit_transform(docs)\n",
    "\n",
    "centralities = {\"Degree Centrality\" : nx.degree_centrality,\n",
    "                \"Betweenness Centrality\" : nx.betweenness_centrality}\n",
    "\n",
    "centrality = nbest_centrality(G, centralities, 10)\n",
    "\n",
    "for measure, scores in centrality.items():\n",
    "    print(\"Rankings for {}:\".format(measure))\n",
    "    print((tabulate(scores, headers=[\"Top Terms\", \"Score\"])))\n",
    "    print(\"\")"
   ],
   "metadata": {
    "collapsed": false,
    "pycharm": {
     "name": "#%%\n"
    }
   }
  },
  {
   "cell_type": "code",
   "execution_count": 11,
   "outputs": [
    {
     "ename": "NodeNotFound",
     "evalue": "Source hollywood is not in G",
     "output_type": "error",
     "traceback": [
      "\u001B[0;31m---------------------------------------------------------------------------\u001B[0m",
      "\u001B[0;31mNodeNotFound\u001B[0m                              Traceback (most recent call last)",
      "\u001B[0;32m<ipython-input-11-aa2567e060ac>\u001B[0m in \u001B[0;36m<module>\u001B[0;34m\u001B[0m\n\u001B[0;32m----> 1\u001B[0;31m \u001B[0mH\u001B[0m \u001B[0;34m=\u001B[0m \u001B[0mnx\u001B[0m\u001B[0;34m.\u001B[0m\u001B[0mego_graph\u001B[0m\u001B[0;34m(\u001B[0m\u001B[0mG\u001B[0m\u001B[0;34m,\u001B[0m \u001B[0;34m\"hollywood\"\u001B[0m\u001B[0;34m)\u001B[0m\u001B[0;34m\u001B[0m\u001B[0;34m\u001B[0m\u001B[0m\n\u001B[0m\u001B[1;32m      2\u001B[0m \u001B[0;34m\u001B[0m\u001B[0m\n",
      "\u001B[0;32m~/Dokumenter/Programs/miniconda3/envs/AppliedTextAnalysiswithPython/lib/python3.8/site-packages/networkx/generators/ego.py\u001B[0m in \u001B[0;36mego_graph\u001B[0;34m(G, n, radius, center, undirected, distance)\u001B[0m\n\u001B[1;32m     64\u001B[0m                                               weight=distance)\n\u001B[1;32m     65\u001B[0m         \u001B[0;32melse\u001B[0m\u001B[0;34m:\u001B[0m\u001B[0;34m\u001B[0m\u001B[0;34m\u001B[0m\u001B[0m\n\u001B[0;32m---> 66\u001B[0;31m             \u001B[0msp\u001B[0m \u001B[0;34m=\u001B[0m \u001B[0mdict\u001B[0m\u001B[0;34m(\u001B[0m\u001B[0mnx\u001B[0m\u001B[0;34m.\u001B[0m\u001B[0msingle_source_shortest_path_length\u001B[0m\u001B[0;34m(\u001B[0m\u001B[0mG\u001B[0m\u001B[0;34m,\u001B[0m \u001B[0mn\u001B[0m\u001B[0;34m,\u001B[0m \u001B[0mcutoff\u001B[0m\u001B[0;34m=\u001B[0m\u001B[0mradius\u001B[0m\u001B[0;34m)\u001B[0m\u001B[0;34m)\u001B[0m\u001B[0;34m\u001B[0m\u001B[0;34m\u001B[0m\u001B[0m\n\u001B[0m\u001B[1;32m     67\u001B[0m \u001B[0;34m\u001B[0m\u001B[0m\n\u001B[1;32m     68\u001B[0m     \u001B[0mH\u001B[0m \u001B[0;34m=\u001B[0m \u001B[0mG\u001B[0m\u001B[0;34m.\u001B[0m\u001B[0msubgraph\u001B[0m\u001B[0;34m(\u001B[0m\u001B[0msp\u001B[0m\u001B[0;34m)\u001B[0m\u001B[0;34m.\u001B[0m\u001B[0mcopy\u001B[0m\u001B[0;34m(\u001B[0m\u001B[0;34m)\u001B[0m\u001B[0;34m\u001B[0m\u001B[0;34m\u001B[0m\u001B[0m\n",
      "\u001B[0;32m~/Dokumenter/Programs/miniconda3/envs/AppliedTextAnalysiswithPython/lib/python3.8/site-packages/networkx/algorithms/shortest_paths/unweighted.py\u001B[0m in \u001B[0;36msingle_source_shortest_path_length\u001B[0;34m(G, source, cutoff)\u001B[0m\n\u001B[1;32m     60\u001B[0m     \"\"\"\n\u001B[1;32m     61\u001B[0m     \u001B[0;32mif\u001B[0m \u001B[0msource\u001B[0m \u001B[0;32mnot\u001B[0m \u001B[0;32min\u001B[0m \u001B[0mG\u001B[0m\u001B[0;34m:\u001B[0m\u001B[0;34m\u001B[0m\u001B[0;34m\u001B[0m\u001B[0m\n\u001B[0;32m---> 62\u001B[0;31m         \u001B[0;32mraise\u001B[0m \u001B[0mnx\u001B[0m\u001B[0;34m.\u001B[0m\u001B[0mNodeNotFound\u001B[0m\u001B[0;34m(\u001B[0m\u001B[0;34m'Source {} is not in G'\u001B[0m\u001B[0;34m.\u001B[0m\u001B[0mformat\u001B[0m\u001B[0;34m(\u001B[0m\u001B[0msource\u001B[0m\u001B[0;34m)\u001B[0m\u001B[0;34m)\u001B[0m\u001B[0;34m\u001B[0m\u001B[0;34m\u001B[0m\u001B[0m\n\u001B[0m\u001B[1;32m     63\u001B[0m     \u001B[0;32mif\u001B[0m \u001B[0mcutoff\u001B[0m \u001B[0;32mis\u001B[0m \u001B[0;32mNone\u001B[0m\u001B[0;34m:\u001B[0m\u001B[0;34m\u001B[0m\u001B[0;34m\u001B[0m\u001B[0m\n\u001B[1;32m     64\u001B[0m         \u001B[0mcutoff\u001B[0m \u001B[0;34m=\u001B[0m \u001B[0mfloat\u001B[0m\u001B[0;34m(\u001B[0m\u001B[0;34m'inf'\u001B[0m\u001B[0;34m)\u001B[0m\u001B[0;34m\u001B[0m\u001B[0;34m\u001B[0m\u001B[0m\n",
      "\u001B[0;31mNodeNotFound\u001B[0m: Source hollywood is not in G"
     ]
    }
   ],
   "source": [
    "H = nx.ego_graph(G, \"hollywood\")"
   ],
   "metadata": {
    "collapsed": false,
    "pycharm": {
     "name": "#%%\n"
    }
   }
  },
  {
   "cell_type": "code",
   "execution_count": 12,
   "outputs": [
    {
     "ename": "NameError",
     "evalue": "name 'H' is not defined",
     "output_type": "error",
     "traceback": [
      "\u001B[0;31m---------------------------------------------------------------------------\u001B[0m",
      "\u001B[0;31mNameError\u001B[0m                                 Traceback (most recent call last)",
      "\u001B[0;32m<ipython-input-12-aa582d2724dc>\u001B[0m in \u001B[0;36m<module>\u001B[0;34m\u001B[0m\n\u001B[1;32m      4\u001B[0m                           \"pagerank\" : nx.pagerank_numpy,}\n\u001B[1;32m      5\u001B[0m \u001B[0;34m\u001B[0m\u001B[0m\n\u001B[0;32m----> 6\u001B[0;31m \u001B[0mhollywood_centrality\u001B[0m \u001B[0;34m=\u001B[0m \u001B[0mnbest_centrality\u001B[0m\u001B[0;34m(\u001B[0m\u001B[0mH\u001B[0m\u001B[0;34m,\u001B[0m \u001B[0mhollywood_centralities\u001B[0m\u001B[0;34m,\u001B[0m \u001B[0;36m10\u001B[0m\u001B[0;34m)\u001B[0m\u001B[0;34m\u001B[0m\u001B[0;34m\u001B[0m\u001B[0m\n\u001B[0m\u001B[1;32m      7\u001B[0m \u001B[0;32mfor\u001B[0m \u001B[0mmeasure\u001B[0m\u001B[0;34m,\u001B[0m \u001B[0mscores\u001B[0m \u001B[0;32min\u001B[0m \u001B[0mhollywood_centrality\u001B[0m\u001B[0;34m.\u001B[0m\u001B[0mitems\u001B[0m\u001B[0;34m(\u001B[0m\u001B[0;34m)\u001B[0m\u001B[0;34m:\u001B[0m\u001B[0;34m\u001B[0m\u001B[0;34m\u001B[0m\u001B[0m\n\u001B[1;32m      8\u001B[0m     \u001B[0mprint\u001B[0m\u001B[0;34m(\u001B[0m\u001B[0;34m\"Rankings for {}:\"\u001B[0m\u001B[0;34m.\u001B[0m\u001B[0mformat\u001B[0m\u001B[0;34m(\u001B[0m\u001B[0mmeasure\u001B[0m\u001B[0;34m)\u001B[0m\u001B[0;34m)\u001B[0m\u001B[0;34m\u001B[0m\u001B[0;34m\u001B[0m\u001B[0m\n",
      "\u001B[0;31mNameError\u001B[0m: name 'H' is not defined"
     ]
    }
   ],
   "source": [
    "hollywood_centralities = {\"closeness\" : nx.closeness_centrality,\n",
    "                          \"eigenvector\" : nx.eigenvector_centrality_numpy,\n",
    "                          \"katz\" : nx.katz_centrality_numpy,\n",
    "                          \"pagerank\" : nx.pagerank_numpy,}\n",
    "\n",
    "hollywood_centrality = nbest_centrality(H, hollywood_centralities, 10)\n",
    "for measure, scores in hollywood_centrality.items():\n",
    "    print(\"Rankings for {}:\".format(measure))\n",
    "    print((tabulate(scores, headers=[\"Top Terms\", \"Score\"])))\n",
    "    print(\"\")"
   ],
   "metadata": {
    "collapsed": false,
    "pycharm": {
     "name": "#%%\n"
    }
   }
  },
  {
   "cell_type": "code",
   "execution_count": 13,
   "outputs": [
    {
     "ename": "NodeNotFound",
     "evalue": "Source hollywood is not in G",
     "output_type": "error",
     "traceback": [
      "\u001B[0;31m---------------------------------------------------------------------------\u001B[0m",
      "\u001B[0;31mNodeNotFound\u001B[0m                              Traceback (most recent call last)",
      "\u001B[0;32m<ipython-input-13-ef81d1ea19d3>\u001B[0m in \u001B[0;36m<module>\u001B[0;34m\u001B[0m\n\u001B[0;32m----> 1\u001B[0;31m \u001B[0mH\u001B[0m \u001B[0;34m=\u001B[0m \u001B[0mnx\u001B[0m\u001B[0;34m.\u001B[0m\u001B[0mego_graph\u001B[0m\u001B[0;34m(\u001B[0m\u001B[0mG\u001B[0m\u001B[0;34m,\u001B[0m \u001B[0;34m\"hollywood\"\u001B[0m\u001B[0;34m)\u001B[0m\u001B[0;34m\u001B[0m\u001B[0;34m\u001B[0m\u001B[0m\n\u001B[0m\u001B[1;32m      2\u001B[0m \u001B[0medges\u001B[0m\u001B[0;34m,\u001B[0m \u001B[0mweights\u001B[0m \u001B[0;34m=\u001B[0m \u001B[0mzip\u001B[0m\u001B[0;34m(\u001B[0m\u001B[0;34m*\u001B[0m\u001B[0mnx\u001B[0m\u001B[0;34m.\u001B[0m\u001B[0mget_edge_attributes\u001B[0m\u001B[0;34m(\u001B[0m\u001B[0mH\u001B[0m\u001B[0;34m,\u001B[0m \u001B[0;34m\"weight\"\u001B[0m\u001B[0;34m)\u001B[0m\u001B[0;34m.\u001B[0m\u001B[0mitems\u001B[0m\u001B[0;34m(\u001B[0m\u001B[0;34m)\u001B[0m\u001B[0;34m)\u001B[0m\u001B[0;34m\u001B[0m\u001B[0;34m\u001B[0m\u001B[0m\n\u001B[1;32m      3\u001B[0m \u001B[0mpos\u001B[0m \u001B[0;34m=\u001B[0m \u001B[0mnx\u001B[0m\u001B[0;34m.\u001B[0m\u001B[0mspring_layout\u001B[0m\u001B[0;34m(\u001B[0m\u001B[0mH\u001B[0m\u001B[0;34m,\u001B[0m \u001B[0mk\u001B[0m\u001B[0;34m=\u001B[0m\u001B[0;36m0.3\u001B[0m\u001B[0;34m,\u001B[0m \u001B[0miterations\u001B[0m\u001B[0;34m=\u001B[0m\u001B[0;36m40\u001B[0m\u001B[0;34m)\u001B[0m\u001B[0;34m\u001B[0m\u001B[0;34m\u001B[0m\u001B[0m\n\u001B[1;32m      4\u001B[0m \u001B[0;34m\u001B[0m\u001B[0m\n\u001B[1;32m      5\u001B[0m nx.draw(\n",
      "\u001B[0;32m~/Dokumenter/Programs/miniconda3/envs/AppliedTextAnalysiswithPython/lib/python3.8/site-packages/networkx/generators/ego.py\u001B[0m in \u001B[0;36mego_graph\u001B[0;34m(G, n, radius, center, undirected, distance)\u001B[0m\n\u001B[1;32m     64\u001B[0m                                               weight=distance)\n\u001B[1;32m     65\u001B[0m         \u001B[0;32melse\u001B[0m\u001B[0;34m:\u001B[0m\u001B[0;34m\u001B[0m\u001B[0;34m\u001B[0m\u001B[0m\n\u001B[0;32m---> 66\u001B[0;31m             \u001B[0msp\u001B[0m \u001B[0;34m=\u001B[0m \u001B[0mdict\u001B[0m\u001B[0;34m(\u001B[0m\u001B[0mnx\u001B[0m\u001B[0;34m.\u001B[0m\u001B[0msingle_source_shortest_path_length\u001B[0m\u001B[0;34m(\u001B[0m\u001B[0mG\u001B[0m\u001B[0;34m,\u001B[0m \u001B[0mn\u001B[0m\u001B[0;34m,\u001B[0m \u001B[0mcutoff\u001B[0m\u001B[0;34m=\u001B[0m\u001B[0mradius\u001B[0m\u001B[0;34m)\u001B[0m\u001B[0;34m)\u001B[0m\u001B[0;34m\u001B[0m\u001B[0;34m\u001B[0m\u001B[0m\n\u001B[0m\u001B[1;32m     67\u001B[0m \u001B[0;34m\u001B[0m\u001B[0m\n\u001B[1;32m     68\u001B[0m     \u001B[0mH\u001B[0m \u001B[0;34m=\u001B[0m \u001B[0mG\u001B[0m\u001B[0;34m.\u001B[0m\u001B[0msubgraph\u001B[0m\u001B[0;34m(\u001B[0m\u001B[0msp\u001B[0m\u001B[0;34m)\u001B[0m\u001B[0;34m.\u001B[0m\u001B[0mcopy\u001B[0m\u001B[0;34m(\u001B[0m\u001B[0;34m)\u001B[0m\u001B[0;34m\u001B[0m\u001B[0;34m\u001B[0m\u001B[0m\n",
      "\u001B[0;32m~/Dokumenter/Programs/miniconda3/envs/AppliedTextAnalysiswithPython/lib/python3.8/site-packages/networkx/algorithms/shortest_paths/unweighted.py\u001B[0m in \u001B[0;36msingle_source_shortest_path_length\u001B[0;34m(G, source, cutoff)\u001B[0m\n\u001B[1;32m     60\u001B[0m     \"\"\"\n\u001B[1;32m     61\u001B[0m     \u001B[0;32mif\u001B[0m \u001B[0msource\u001B[0m \u001B[0;32mnot\u001B[0m \u001B[0;32min\u001B[0m \u001B[0mG\u001B[0m\u001B[0;34m:\u001B[0m\u001B[0;34m\u001B[0m\u001B[0;34m\u001B[0m\u001B[0m\n\u001B[0;32m---> 62\u001B[0;31m         \u001B[0;32mraise\u001B[0m \u001B[0mnx\u001B[0m\u001B[0;34m.\u001B[0m\u001B[0mNodeNotFound\u001B[0m\u001B[0;34m(\u001B[0m\u001B[0;34m'Source {} is not in G'\u001B[0m\u001B[0;34m.\u001B[0m\u001B[0mformat\u001B[0m\u001B[0;34m(\u001B[0m\u001B[0msource\u001B[0m\u001B[0;34m)\u001B[0m\u001B[0;34m)\u001B[0m\u001B[0;34m\u001B[0m\u001B[0;34m\u001B[0m\u001B[0m\n\u001B[0m\u001B[1;32m     63\u001B[0m     \u001B[0;32mif\u001B[0m \u001B[0mcutoff\u001B[0m \u001B[0;32mis\u001B[0m \u001B[0;32mNone\u001B[0m\u001B[0;34m:\u001B[0m\u001B[0;34m\u001B[0m\u001B[0;34m\u001B[0m\u001B[0m\n\u001B[1;32m     64\u001B[0m         \u001B[0mcutoff\u001B[0m \u001B[0;34m=\u001B[0m \u001B[0mfloat\u001B[0m\u001B[0;34m(\u001B[0m\u001B[0;34m'inf'\u001B[0m\u001B[0;34m)\u001B[0m\u001B[0;34m\u001B[0m\u001B[0;34m\u001B[0m\u001B[0m\n",
      "\u001B[0;31mNodeNotFound\u001B[0m: Source hollywood is not in G"
     ]
    }
   ],
   "source": [
    "H = nx.ego_graph(G, \"hollywood\")\n",
    "edges, weights = zip(*nx.get_edge_attributes(H, \"weight\").items())\n",
    "pos = nx.spring_layout(H, k=0.3, iterations=40)\n",
    "\n",
    "nx.draw(\n",
    "    H, pos, node_color=\"skyblue\", node_size=20, edgelist=edges,\n",
    "    edge_color=weights, width=0.25, edge_cmap=plt.cm.Pastel2,\n",
    "    with_labels=True, font_size=6, alpha=0.8)\n",
    "plt.show()"
   ],
   "metadata": {
    "collapsed": false,
    "pycharm": {
     "name": "#%%\n"
    }
   }
  },
  {
   "cell_type": "code",
   "execution_count": 14,
   "outputs": [
    {
     "data": {
      "text/plain": "<Figure size 432x288 with 1 Axes>",
      "image/png": "[encoded data removed]"
     },
     "metadata": {
      "needs_background": "light"
     },
     "output_type": "display_data"
    }
   ],
   "source": [
    "import seaborn as sns\n",
    "\n",
    "sns.distplot([G.degree(v) for v in G.nodes()], norm_hist=True)\n",
    "plt.show()"
   ],
   "metadata": {
    "collapsed": false,
    "pycharm": {
     "name": "#%%\n"
    }
   }
  },
  {
   "cell_type": "code",
   "execution_count": 15,
   "outputs": [
    {
     "name": "stdout",
     "output_type": "stream",
     "text": [
      "Baleen Entity Graph\n",
      "Average clustering coefficient: 0.25\n",
      "Transitivity: 0.6104651162790697\n",
      "Number of cliques: 19\n",
      "Hollywood Ego Graph\n"
     ]
    },
    {
     "ename": "NameError",
     "evalue": "name 'H' is not defined",
     "output_type": "error",
     "traceback": [
      "\u001B[0;31m---------------------------------------------------------------------------\u001B[0m",
      "\u001B[0;31mNameError\u001B[0m                                 Traceback (most recent call last)",
      "\u001B[0;32m<ipython-input-15-48ff4c1b083b>\u001B[0m in \u001B[0;36m<module>\u001B[0;34m\u001B[0m\n\u001B[1;32m      5\u001B[0m \u001B[0;34m\u001B[0m\u001B[0m\n\u001B[1;32m      6\u001B[0m \u001B[0mprint\u001B[0m\u001B[0;34m(\u001B[0m\u001B[0;34m\"Hollywood Ego Graph\"\u001B[0m\u001B[0;34m)\u001B[0m\u001B[0;34m\u001B[0m\u001B[0;34m\u001B[0m\u001B[0m\n\u001B[0;32m----> 7\u001B[0;31m \u001B[0mprint\u001B[0m\u001B[0;34m(\u001B[0m\u001B[0;34m\"Average clustering coefficient: {}\"\u001B[0m\u001B[0;34m.\u001B[0m\u001B[0mformat\u001B[0m\u001B[0;34m(\u001B[0m\u001B[0mnx\u001B[0m\u001B[0;34m.\u001B[0m\u001B[0maverage_clustering\u001B[0m\u001B[0;34m(\u001B[0m\u001B[0mH\u001B[0m\u001B[0;34m)\u001B[0m\u001B[0;34m)\u001B[0m\u001B[0;34m)\u001B[0m\u001B[0;34m\u001B[0m\u001B[0;34m\u001B[0m\u001B[0m\n\u001B[0m\u001B[1;32m      8\u001B[0m \u001B[0mprint\u001B[0m\u001B[0;34m(\u001B[0m\u001B[0;34m\"Transitivity: {}\"\u001B[0m\u001B[0;34m.\u001B[0m\u001B[0mformat\u001B[0m\u001B[0;34m(\u001B[0m\u001B[0mnx\u001B[0m\u001B[0;34m.\u001B[0m\u001B[0mtransitivity\u001B[0m\u001B[0;34m(\u001B[0m\u001B[0mH\u001B[0m\u001B[0;34m)\u001B[0m\u001B[0;34m)\u001B[0m\u001B[0;34m)\u001B[0m\u001B[0;34m\u001B[0m\u001B[0;34m\u001B[0m\u001B[0m\n\u001B[1;32m      9\u001B[0m \u001B[0mprint\u001B[0m\u001B[0;34m(\u001B[0m\u001B[0;34m\"Number of cliques: {}\"\u001B[0m\u001B[0;34m.\u001B[0m\u001B[0mformat\u001B[0m\u001B[0;34m(\u001B[0m\u001B[0mnx\u001B[0m\u001B[0;34m.\u001B[0m\u001B[0mgraph_number_of_cliques\u001B[0m\u001B[0;34m(\u001B[0m\u001B[0mH\u001B[0m\u001B[0;34m)\u001B[0m\u001B[0;34m)\u001B[0m\u001B[0;34m)\u001B[0m\u001B[0;34m\u001B[0m\u001B[0;34m\u001B[0m\u001B[0m\n",
      "\u001B[0;31mNameError\u001B[0m: name 'H' is not defined"
     ]
    }
   ],
   "source": [
    "print(\"Baleen Entity Graph\")\n",
    "print(\"Average clustering coefficient: {}\".format(nx.average_clustering(G)))\n",
    "print(\"Transitivity: {}\".format(nx.transitivity(G)))\n",
    "print(\"Number of cliques: {}\".format(nx.graph_number_of_cliques(G)))\n",
    "\n",
    "print(\"Hollywood Ego Graph\")\n",
    "print(\"Average clustering coefficient: {}\".format(nx.average_clustering(H)))\n",
    "print(\"Transitivity: {}\".format(nx.transitivity(H)))\n",
    "print(\"Number of cliques: {}\".format(nx.graph_number_of_cliques(H)))"
   ],
   "metadata": {
    "collapsed": false,
    "pycharm": {
     "name": "#%%\n"
    }
   }
  },
  {
   "cell_type": "code",
   "execution_count": 16,
   "outputs": [],
   "source": [
    "import networkx as nx\n",
    "from itertools import combinations\n",
    "\n",
    "def pairwise_comparisons(G):\n",
    "    \"\"\"\n",
    "    Produces a generator of pairs of nodes.\n",
    "    \"\"\"\n",
    "    return combinations(G.nodes(), 2)"
   ],
   "metadata": {
    "collapsed": false,
    "pycharm": {
     "name": "#%%\n"
    }
   }
  },
  {
   "cell_type": "code",
   "execution_count": 17,
   "outputs": [],
   "source": [
    "def edge_blocked_comparisons(G):\n",
    "    \"\"\"\n",
    "    A generator of pairwise comparisons, that highlights comparisons\n",
    "    between nodes that have an edge to the same entity.\n",
    "    \"\"\"\n",
    "    for n1, n2 in pairwise_comparisons(G):\n",
    "        hood1 = frozenset(G.neighbors(n1))\n",
    "        hood2 = frozenset(G.neighbors(n2))\n",
    "        if hood1 & hood2:\n",
    "            yield n1,n2"
   ],
   "metadata": {
    "collapsed": false,
    "pycharm": {
     "name": "#%%\n"
    }
   }
  },
  {
   "cell_type": "code",
   "execution_count": 18,
   "outputs": [
    {
     "name": "stderr",
     "output_type": "stream",
     "text": [
      "/home/af/Dokumenter/Programs/miniconda3/envs/AppliedTextAnalysiswithPython/lib/python3.8/site-packages/fuzzywuzzy/fuzz.py:11: UserWarning: Using slow pure-python SequenceMatcher. Install python-Levenshtein to remove this warning\n",
      "  warnings.warn('Using slow pure-python SequenceMatcher. Install python-Levenshtein to remove this warning')\n"
     ]
    }
   ],
   "source": [
    "from fuzzywuzzy import fuzz\n",
    "\n",
    "def similarity(n1, n2):\n",
    "    \"\"\"\n",
    "    Returns the mean of the partial_ratio score for each field in the two\n",
    "    entities. Note that if they don't have fields that match, the score will\n",
    "    be zero.\n",
    "    \"\"\"\n",
    "    scores = [\n",
    "        fuzz.partial_ratio(n1, n2),\n",
    "        fuzz.partial_ratio(G.node[n1]['type'], G.node[n2]['type'])\n",
    "    ]\n",
    "\n",
    "    return float(sum(s for s in scores)) / float(len(scores))"
   ],
   "metadata": {
    "collapsed": false,
    "pycharm": {
     "name": "#%%\n"
    }
   }
  },
  {
   "cell_type": "code",
   "execution_count": 19,
   "outputs": [],
   "source": [
    "def fuzzy_blocked_comparisons(G, threshold=65):\n",
    "    \"\"\"\n",
    "    A generator of pairwise comparisons, that highlights comparisons between\n",
    "    nodes that have an edge to the same entity, but filters out comparisons\n",
    "    if the similarity of n1 and n2 is below the threshold.\n",
    "    \"\"\"\n",
    "    for n1, n2 in pairwise_comparisons(G):\n",
    "        hood1 = frozenset(G.neighbors(n1))\n",
    "        hood2 = frozenset(G.neighbors(n2))\n",
    "        if hood1 & hood2:\n",
    "            if similarity(n1, n2) > threshold:\n",
    "                yield n1,n2"
   ],
   "metadata": {
    "collapsed": false,
    "pycharm": {
     "name": "#%%\n"
    }
   }
  },
  {
   "cell_type": "code",
   "execution_count": 20,
   "outputs": [],
   "source": [
    "def info(G):\n",
    "    \"\"\"\n",
    "    Wrapper for nx.info with some other helpers.\n",
    "    \"\"\"\n",
    "    pairwise = len(list(pairwise_comparisons(G)))\n",
    "    edge_blocked = len(list(edge_blocked_comparisons(G)))\n",
    "    fuzz_blocked = len(list(fuzzy_blocked_comparisons(G)))\n",
    "\n",
    "    output = [\"\"]\n",
    "    output.append(\"Number of Pairwise Comparisons: {}\".format(pairwise))\n",
    "    output.append(\"Number of Edge Blocked Comparisons: {}\".format(edge_blocked))\n",
    "    output.append(\"Number of Fuzzy Blocked Comparisons: {}\".format(fuzz_blocked))\n",
    "\n",
    "    return nx.info(G) + \"\\n\".join(output)"
   ],
   "metadata": {
    "collapsed": false,
    "pycharm": {
     "name": "#%%\n"
    }
   }
  },
  {
   "cell_type": "code",
   "execution_count": 21,
   "outputs": [],
   "source": [
    "from sklearn.base import BaseEstimator, TransformerMixin\n",
    "\n",
    "class FuzzyBlocker(BaseEstimator, TransformerMixin):\n",
    "\n",
    "    def __init__(self, threshold=65):\n",
    "        self.threshold = threshold\n",
    "\n",
    "    def fit(self, G, y=None):\n",
    "        return self\n",
    "\n",
    "    def transform(self, G):\n",
    "        return fuzzy_blocked_comparisons(G, self.threshold)"
   ],
   "metadata": {
    "collapsed": false,
    "pycharm": {
     "name": "#%%\n"
    }
   }
  },
  {
   "cell_type": "code",
   "execution_count": null,
   "outputs": [],
   "source": [],
   "metadata": {
    "collapsed": false,
    "pycharm": {
     "name": "#%%\n"
    }
   }
  }
 ],
 "metadata": {
  "kernelspec": {
   "display_name": "Python 3",
   "language": "python",
   "name": "python3"
  },
  "language_info": {
   "codemirror_mode": {
    "name": "ipython",
    "version": 2
   },
   "file_extension": ".py",
   "mimetype": "text/x-python",
   "name": "python",
   "nbconvert_exporter": "python",
   "pygments_lexer": "ipython2",
   "version": "2.7.6"
  }
 },
 "nbformat": 4,
 "nbformat_minor": 0
}